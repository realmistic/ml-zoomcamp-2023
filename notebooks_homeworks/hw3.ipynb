{
 "cells": [
  {
   "cell_type": "markdown",
   "metadata": {},
   "source": [
    "# IMPORTS and PREP"
   ]
  },
  {
   "cell_type": "code",
   "execution_count": 2,
   "metadata": {},
   "outputs": [],
   "source": [
    "import pandas as pd\n",
    "import numpy as np"
   ]
  },
  {
   "cell_type": "code",
   "execution_count": 3,
   "metadata": {},
   "outputs": [],
   "source": [
    "url = \"https://raw.githubusercontent.com/alexeygrigorev/mlbookcamp-code/master/chapter-02-car-price/data.csv\"\n",
    "full_df = pd.read_csv(url)"
   ]
  },
  {
   "cell_type": "code",
   "execution_count": 4,
   "metadata": {},
   "outputs": [
    {
     "data": {
      "text/html": [
       "<div>\n",
       "<style scoped>\n",
       "    .dataframe tbody tr th:only-of-type {\n",
       "        vertical-align: middle;\n",
       "    }\n",
       "\n",
       "    .dataframe tbody tr th {\n",
       "        vertical-align: top;\n",
       "    }\n",
       "\n",
       "    .dataframe thead th {\n",
       "        text-align: right;\n",
       "    }\n",
       "</style>\n",
       "<table border=\"1\" class=\"dataframe\">\n",
       "  <thead>\n",
       "    <tr style=\"text-align: right;\">\n",
       "      <th></th>\n",
       "      <th>Make</th>\n",
       "      <th>Model</th>\n",
       "      <th>Year</th>\n",
       "      <th>Engine Fuel Type</th>\n",
       "      <th>Engine HP</th>\n",
       "      <th>Engine Cylinders</th>\n",
       "      <th>Transmission Type</th>\n",
       "      <th>Driven_Wheels</th>\n",
       "      <th>Number of Doors</th>\n",
       "      <th>Market Category</th>\n",
       "      <th>Vehicle Size</th>\n",
       "      <th>Vehicle Style</th>\n",
       "      <th>highway MPG</th>\n",
       "      <th>city mpg</th>\n",
       "      <th>Popularity</th>\n",
       "      <th>MSRP</th>\n",
       "    </tr>\n",
       "  </thead>\n",
       "  <tbody>\n",
       "    <tr>\n",
       "      <th>0</th>\n",
       "      <td>BMW</td>\n",
       "      <td>1 Series M</td>\n",
       "      <td>2011</td>\n",
       "      <td>premium unleaded (required)</td>\n",
       "      <td>335.0</td>\n",
       "      <td>6.0</td>\n",
       "      <td>MANUAL</td>\n",
       "      <td>rear wheel drive</td>\n",
       "      <td>2.0</td>\n",
       "      <td>Factory Tuner,Luxury,High-Performance</td>\n",
       "      <td>Compact</td>\n",
       "      <td>Coupe</td>\n",
       "      <td>26</td>\n",
       "      <td>19</td>\n",
       "      <td>3916</td>\n",
       "      <td>46135</td>\n",
       "    </tr>\n",
       "  </tbody>\n",
       "</table>\n",
       "</div>"
      ],
      "text/plain": [
       "  Make       Model  Year             Engine Fuel Type  Engine HP  \\\n",
       "0  BMW  1 Series M  2011  premium unleaded (required)      335.0   \n",
       "\n",
       "   Engine Cylinders Transmission Type     Driven_Wheels  Number of Doors  \\\n",
       "0               6.0            MANUAL  rear wheel drive              2.0   \n",
       "\n",
       "                         Market Category Vehicle Size Vehicle Style  \\\n",
       "0  Factory Tuner,Luxury,High-Performance      Compact         Coupe   \n",
       "\n",
       "   highway MPG  city mpg  Popularity   MSRP  \n",
       "0           26        19        3916  46135  "
      ]
     },
     "execution_count": 4,
     "metadata": {},
     "output_type": "execute_result"
    }
   ],
   "source": [
    "full_df.head(1)"
   ]
  },
  {
   "cell_type": "code",
   "execution_count": 6,
   "metadata": {},
   "outputs": [
    {
     "data": {
      "text/plain": [
       "Index(['Make', 'Model', 'Year', 'Engine Fuel Type', 'Engine HP',\n",
       "       'Engine Cylinders', 'Transmission Type', 'Driven_Wheels',\n",
       "       'Number of Doors', 'Market Category', 'Vehicle Size', 'Vehicle Style',\n",
       "       'highway MPG', 'city mpg', 'Popularity', 'MSRP'],\n",
       "      dtype='object')"
      ]
     },
     "execution_count": 6,
     "metadata": {},
     "output_type": "execute_result"
    }
   ],
   "source": [
    "full_df.keys()"
   ]
  },
  {
   "cell_type": "code",
   "execution_count": 25,
   "metadata": {},
   "outputs": [
    {
     "data": {
      "text/plain": [
       "['Make',\n",
       " 'Model',\n",
       " 'Year',\n",
       " 'Engine HP',\n",
       " 'Engine Cylinders',\n",
       " 'Transmission Type',\n",
       " 'Vehicle Style',\n",
       " 'highway MPG',\n",
       " 'city mpg',\n",
       " 'MSRP']"
      ]
     },
     "execution_count": 25,
     "metadata": {},
     "output_type": "execute_result"
    }
   ],
   "source": [
    "# remove 1 column\n",
    "COLUMNS = [x for x in full_df.keys() if x in ['Make','Model','Year','Engine HP','Engine Cylinders','Transmission Type','Vehicle Style','highway MPG','city mpg',\"MSRP\"]]\n",
    "COLUMNS"
   ]
  },
  {
   "cell_type": "code",
   "execution_count": 35,
   "metadata": {},
   "outputs": [
    {
     "name": "stdout",
     "output_type": "stream",
     "text": [
      "<class 'pandas.core.frame.DataFrame'>\n",
      "RangeIndex: 11914 entries, 0 to 11913\n",
      "Data columns (total 10 columns):\n",
      " #   Column             Non-Null Count  Dtype  \n",
      "---  ------             --------------  -----  \n",
      " 0   Make               11914 non-null  object \n",
      " 1   Model              11914 non-null  object \n",
      " 2   Year               11914 non-null  int64  \n",
      " 3   Engine HP          11845 non-null  float64\n",
      " 4   Engine Cylinders   11884 non-null  float64\n",
      " 5   Transmission Type  11914 non-null  object \n",
      " 6   Vehicle Style      11914 non-null  object \n",
      " 7   highway MPG        11914 non-null  int64  \n",
      " 8   city mpg           11914 non-null  int64  \n",
      " 9   MSRP               11914 non-null  int64  \n",
      "dtypes: float64(2), int64(4), object(4)\n",
      "memory usage: 930.9+ KB\n"
     ]
    }
   ],
   "source": [
    "df = full_df[COLUMNS]\n",
    "df.info()"
   ]
  },
  {
   "cell_type": "code",
   "execution_count": 36,
   "metadata": {},
   "outputs": [],
   "source": [
    "df = df.rename(columns={\"MSRP\": \"price\"})\n",
    "df.columns = df.columns.str.replace(' ', '_').str.lower()"
   ]
  },
  {
   "cell_type": "code",
   "execution_count": 37,
   "metadata": {},
   "outputs": [
    {
     "name": "stdout",
     "output_type": "stream",
     "text": [
      "<class 'pandas.core.frame.DataFrame'>\n",
      "RangeIndex: 11914 entries, 0 to 11913\n",
      "Data columns (total 10 columns):\n",
      " #   Column             Non-Null Count  Dtype  \n",
      "---  ------             --------------  -----  \n",
      " 0   make               11914 non-null  object \n",
      " 1   model              11914 non-null  object \n",
      " 2   year               11914 non-null  int64  \n",
      " 3   engine_hp          11845 non-null  float64\n",
      " 4   engine_cylinders   11884 non-null  float64\n",
      " 5   transmission_type  11914 non-null  object \n",
      " 6   vehicle_style      11914 non-null  object \n",
      " 7   highway_mpg        11914 non-null  int64  \n",
      " 8   city_mpg           11914 non-null  int64  \n",
      " 9   price              11914 non-null  int64  \n",
      "dtypes: float64(2), int64(4), object(4)\n",
      "memory usage: 930.9+ KB\n"
     ]
    }
   ],
   "source": [
    "df.info()"
   ]
  },
  {
   "cell_type": "code",
   "execution_count": 38,
   "metadata": {},
   "outputs": [
    {
     "data": {
      "text/plain": [
       "make                  0\n",
       "model                 0\n",
       "year                  0\n",
       "engine_hp            69\n",
       "engine_cylinders     30\n",
       "transmission_type     0\n",
       "vehicle_style         0\n",
       "highway_mpg           0\n",
       "city_mpg              0\n",
       "price                 0\n",
       "dtype: int64"
      ]
     },
     "execution_count": 38,
     "metadata": {},
     "output_type": "execute_result"
    }
   ],
   "source": [
    "df.isnull().sum()"
   ]
  },
  {
   "cell_type": "code",
   "execution_count": 39,
   "metadata": {},
   "outputs": [],
   "source": [
    "df = df.fillna(0)"
   ]
  },
  {
   "cell_type": "code",
   "execution_count": 40,
   "metadata": {},
   "outputs": [
    {
     "data": {
      "text/plain": [
       "make                 0\n",
       "model                0\n",
       "year                 0\n",
       "engine_hp            0\n",
       "engine_cylinders     0\n",
       "transmission_type    0\n",
       "vehicle_style        0\n",
       "highway_mpg          0\n",
       "city_mpg             0\n",
       "price                0\n",
       "dtype: int64"
      ]
     },
     "execution_count": 40,
     "metadata": {},
     "output_type": "execute_result"
    }
   ],
   "source": [
    "df.isnull().sum()"
   ]
  },
  {
   "cell_type": "markdown",
   "metadata": {},
   "source": [
    "# Q1"
   ]
  },
  {
   "cell_type": "code",
   "execution_count": 41,
   "metadata": {},
   "outputs": [
    {
     "data": {
      "text/plain": [
       "AUTOMATIC           8266\n",
       "MANUAL              2935\n",
       "AUTOMATED_MANUAL     626\n",
       "DIRECT_DRIVE          68\n",
       "UNKNOWN               19\n",
       "Name: transmission_type, dtype: int64"
      ]
     },
     "execution_count": 41,
     "metadata": {},
     "output_type": "execute_result"
    }
   ],
   "source": [
    "# Q1 : more freq value of transmission_type ==> AUTOMATIC\n",
    "df.transmission_type.value_counts()"
   ]
  },
  {
   "cell_type": "markdown",
   "metadata": {},
   "source": [
    "# Q2"
   ]
  },
  {
   "cell_type": "code",
   "execution_count": 42,
   "metadata": {},
   "outputs": [
    {
     "name": "stderr",
     "output_type": "stream",
     "text": [
      "/tmp/ipykernel_3321/1134722465.py:1: FutureWarning: The default value of numeric_only in DataFrame.corr is deprecated. In a future version, it will default to False. Select only valid columns or specify the value of numeric_only to silence this warning.\n",
      "  df.corr()\n"
     ]
    },
    {
     "data": {
      "text/html": [
       "<div>\n",
       "<style scoped>\n",
       "    .dataframe tbody tr th:only-of-type {\n",
       "        vertical-align: middle;\n",
       "    }\n",
       "\n",
       "    .dataframe tbody tr th {\n",
       "        vertical-align: top;\n",
       "    }\n",
       "\n",
       "    .dataframe thead th {\n",
       "        text-align: right;\n",
       "    }\n",
       "</style>\n",
       "<table border=\"1\" class=\"dataframe\">\n",
       "  <thead>\n",
       "    <tr style=\"text-align: right;\">\n",
       "      <th></th>\n",
       "      <th>year</th>\n",
       "      <th>engine_hp</th>\n",
       "      <th>engine_cylinders</th>\n",
       "      <th>highway_mpg</th>\n",
       "      <th>city_mpg</th>\n",
       "      <th>price</th>\n",
       "    </tr>\n",
       "  </thead>\n",
       "  <tbody>\n",
       "    <tr>\n",
       "      <th>year</th>\n",
       "      <td>1.000000</td>\n",
       "      <td>0.338714</td>\n",
       "      <td>-0.040708</td>\n",
       "      <td>0.258240</td>\n",
       "      <td>0.198171</td>\n",
       "      <td>0.227590</td>\n",
       "    </tr>\n",
       "    <tr>\n",
       "      <th>engine_hp</th>\n",
       "      <td>0.338714</td>\n",
       "      <td>1.000000</td>\n",
       "      <td>0.774851</td>\n",
       "      <td>-0.415707</td>\n",
       "      <td>-0.424918</td>\n",
       "      <td>0.650095</td>\n",
       "    </tr>\n",
       "    <tr>\n",
       "      <th>engine_cylinders</th>\n",
       "      <td>-0.040708</td>\n",
       "      <td>0.774851</td>\n",
       "      <td>1.000000</td>\n",
       "      <td>-0.614541</td>\n",
       "      <td>-0.587306</td>\n",
       "      <td>0.526274</td>\n",
       "    </tr>\n",
       "    <tr>\n",
       "      <th>highway_mpg</th>\n",
       "      <td>0.258240</td>\n",
       "      <td>-0.415707</td>\n",
       "      <td>-0.614541</td>\n",
       "      <td>1.000000</td>\n",
       "      <td>0.886829</td>\n",
       "      <td>-0.160043</td>\n",
       "    </tr>\n",
       "    <tr>\n",
       "      <th>city_mpg</th>\n",
       "      <td>0.198171</td>\n",
       "      <td>-0.424918</td>\n",
       "      <td>-0.587306</td>\n",
       "      <td>0.886829</td>\n",
       "      <td>1.000000</td>\n",
       "      <td>-0.157676</td>\n",
       "    </tr>\n",
       "    <tr>\n",
       "      <th>price</th>\n",
       "      <td>0.227590</td>\n",
       "      <td>0.650095</td>\n",
       "      <td>0.526274</td>\n",
       "      <td>-0.160043</td>\n",
       "      <td>-0.157676</td>\n",
       "      <td>1.000000</td>\n",
       "    </tr>\n",
       "  </tbody>\n",
       "</table>\n",
       "</div>"
      ],
      "text/plain": [
       "                      year  engine_hp  engine_cylinders  highway_mpg  \\\n",
       "year              1.000000   0.338714         -0.040708     0.258240   \n",
       "engine_hp         0.338714   1.000000          0.774851    -0.415707   \n",
       "engine_cylinders -0.040708   0.774851          1.000000    -0.614541   \n",
       "highway_mpg       0.258240  -0.415707         -0.614541     1.000000   \n",
       "city_mpg          0.198171  -0.424918         -0.587306     0.886829   \n",
       "price             0.227590   0.650095          0.526274    -0.160043   \n",
       "\n",
       "                  city_mpg     price  \n",
       "year              0.198171  0.227590  \n",
       "engine_hp        -0.424918  0.650095  \n",
       "engine_cylinders -0.587306  0.526274  \n",
       "highway_mpg       0.886829 -0.160043  \n",
       "city_mpg          1.000000 -0.157676  \n",
       "price            -0.157676  1.000000  "
      ]
     },
     "execution_count": 42,
     "metadata": {},
     "output_type": "execute_result"
    }
   ],
   "source": [
    "df.corr()"
   ]
  },
  {
   "cell_type": "code",
   "execution_count": 43,
   "metadata": {},
   "outputs": [
    {
     "name": "stderr",
     "output_type": "stream",
     "text": [
      "/tmp/ipykernel_3321/1042200255.py:4: FutureWarning: The default value of numeric_only in DataFrame.corr is deprecated. In a future version, it will default to False. Select only valid columns or specify the value of numeric_only to silence this warning.\n",
      "  sns.heatmap(df.corr(), cmap=\"YlGnBu\", annot=True)\n"
     ]
    },
    {
     "data": {
      "text/plain": [
       "<Axes: >"
      ]
     },
     "execution_count": 43,
     "metadata": {},
     "output_type": "execute_result"
    },
    {
     "data": {
      "image/png": "[encoded data removed]",
      "text/plain": [
       "<Figure size 640x480 with 2 Axes>"
      ]
     },
     "metadata": {},
     "output_type": "display_data"
    }
   ],
   "source": [
    "# Q2: the most corr<1 value is 0.89 : highway_mpg and city_mpg  \n",
    "import seaborn as sns\n",
    "\n",
    "sns.heatmap(df.corr(), cmap=\"YlGnBu\", annot=True)\n"
   ]
  },
  {
   "cell_type": "code",
   "execution_count": 47,
   "metadata": {},
   "outputs": [
    {
     "data": {
      "text/plain": [
       "40594.737032063116"
      ]
     },
     "execution_count": 47,
     "metadata": {},
     "output_type": "execute_result"
    }
   ],
   "source": [
    "avg = df.price.mean()\n",
    "avg"
   ]
  },
  {
   "cell_type": "code",
   "execution_count": 45,
   "metadata": {},
   "outputs": [],
   "source": [
    "df['above_average'] = df.price.apply(lambda x: 1 if x>avg else 0)"
   ]
  },
  {
   "cell_type": "code",
   "execution_count": 48,
   "metadata": {},
   "outputs": [
    {
     "data": {
      "text/html": [
       "<div>\n",
       "<style scoped>\n",
       "    .dataframe tbody tr th:only-of-type {\n",
       "        vertical-align: middle;\n",
       "    }\n",
       "\n",
       "    .dataframe tbody tr th {\n",
       "        vertical-align: top;\n",
       "    }\n",
       "\n",
       "    .dataframe thead th {\n",
       "        text-align: right;\n",
       "    }\n",
       "</style>\n",
       "<table border=\"1\" class=\"dataframe\">\n",
       "  <thead>\n",
       "    <tr style=\"text-align: right;\">\n",
       "      <th></th>\n",
       "      <th>make</th>\n",
       "      <th>model</th>\n",
       "      <th>year</th>\n",
       "      <th>engine_hp</th>\n",
       "      <th>engine_cylinders</th>\n",
       "      <th>transmission_type</th>\n",
       "      <th>vehicle_style</th>\n",
       "      <th>highway_mpg</th>\n",
       "      <th>city_mpg</th>\n",
       "      <th>price</th>\n",
       "      <th>above_average</th>\n",
       "    </tr>\n",
       "  </thead>\n",
       "  <tbody>\n",
       "    <tr>\n",
       "      <th>0</th>\n",
       "      <td>BMW</td>\n",
       "      <td>1 Series M</td>\n",
       "      <td>2011</td>\n",
       "      <td>335.0</td>\n",
       "      <td>6.0</td>\n",
       "      <td>MANUAL</td>\n",
       "      <td>Coupe</td>\n",
       "      <td>26</td>\n",
       "      <td>19</td>\n",
       "      <td>46135</td>\n",
       "      <td>1</td>\n",
       "    </tr>\n",
       "    <tr>\n",
       "      <th>1</th>\n",
       "      <td>BMW</td>\n",
       "      <td>1 Series</td>\n",
       "      <td>2011</td>\n",
       "      <td>300.0</td>\n",
       "      <td>6.0</td>\n",
       "      <td>MANUAL</td>\n",
       "      <td>Convertible</td>\n",
       "      <td>28</td>\n",
       "      <td>19</td>\n",
       "      <td>40650</td>\n",
       "      <td>1</td>\n",
       "    </tr>\n",
       "    <tr>\n",
       "      <th>2</th>\n",
       "      <td>BMW</td>\n",
       "      <td>1 Series</td>\n",
       "      <td>2011</td>\n",
       "      <td>300.0</td>\n",
       "      <td>6.0</td>\n",
       "      <td>MANUAL</td>\n",
       "      <td>Coupe</td>\n",
       "      <td>28</td>\n",
       "      <td>20</td>\n",
       "      <td>36350</td>\n",
       "      <td>0</td>\n",
       "    </tr>\n",
       "    <tr>\n",
       "      <th>3</th>\n",
       "      <td>BMW</td>\n",
       "      <td>1 Series</td>\n",
       "      <td>2011</td>\n",
       "      <td>230.0</td>\n",
       "      <td>6.0</td>\n",
       "      <td>MANUAL</td>\n",
       "      <td>Coupe</td>\n",
       "      <td>28</td>\n",
       "      <td>18</td>\n",
       "      <td>29450</td>\n",
       "      <td>0</td>\n",
       "    </tr>\n",
       "    <tr>\n",
       "      <th>4</th>\n",
       "      <td>BMW</td>\n",
       "      <td>1 Series</td>\n",
       "      <td>2011</td>\n",
       "      <td>230.0</td>\n",
       "      <td>6.0</td>\n",
       "      <td>MANUAL</td>\n",
       "      <td>Convertible</td>\n",
       "      <td>28</td>\n",
       "      <td>18</td>\n",
       "      <td>34500</td>\n",
       "      <td>0</td>\n",
       "    </tr>\n",
       "  </tbody>\n",
       "</table>\n",
       "</div>"
      ],
      "text/plain": [
       "  make       model  year  engine_hp  engine_cylinders transmission_type  \\\n",
       "0  BMW  1 Series M  2011      335.0               6.0            MANUAL   \n",
       "1  BMW    1 Series  2011      300.0               6.0            MANUAL   \n",
       "2  BMW    1 Series  2011      300.0               6.0            MANUAL   \n",
       "3  BMW    1 Series  2011      230.0               6.0            MANUAL   \n",
       "4  BMW    1 Series  2011      230.0               6.0            MANUAL   \n",
       "\n",
       "  vehicle_style  highway_mpg  city_mpg  price  above_average  \n",
       "0         Coupe           26        19  46135              1  \n",
       "1   Convertible           28        19  40650              1  \n",
       "2         Coupe           28        20  36350              0  \n",
       "3         Coupe           28        18  29450              0  \n",
       "4   Convertible           28        18  34500              0  "
      ]
     },
     "execution_count": 48,
     "metadata": {},
     "output_type": "execute_result"
    }
   ],
   "source": [
    "df.head()"
   ]
  },
  {
   "cell_type": "code",
   "execution_count": 50,
   "metadata": {},
   "outputs": [],
   "source": [
    "del df[\"price\"]"
   ]
  },
  {
   "cell_type": "code",
   "execution_count": 51,
   "metadata": {},
   "outputs": [
    {
     "data": {
      "text/html": [
       "<div>\n",
       "<style scoped>\n",
       "    .dataframe tbody tr th:only-of-type {\n",
       "        vertical-align: middle;\n",
       "    }\n",
       "\n",
       "    .dataframe tbody tr th {\n",
       "        vertical-align: top;\n",
       "    }\n",
       "\n",
       "    .dataframe thead th {\n",
       "        text-align: right;\n",
       "    }\n",
       "</style>\n",
       "<table border=\"1\" class=\"dataframe\">\n",
       "  <thead>\n",
       "    <tr style=\"text-align: right;\">\n",
       "      <th></th>\n",
       "      <th>make</th>\n",
       "      <th>model</th>\n",
       "      <th>year</th>\n",
       "      <th>engine_hp</th>\n",
       "      <th>engine_cylinders</th>\n",
       "      <th>transmission_type</th>\n",
       "      <th>vehicle_style</th>\n",
       "      <th>highway_mpg</th>\n",
       "      <th>city_mpg</th>\n",
       "      <th>above_average</th>\n",
       "    </tr>\n",
       "  </thead>\n",
       "  <tbody>\n",
       "    <tr>\n",
       "      <th>0</th>\n",
       "      <td>BMW</td>\n",
       "      <td>1 Series M</td>\n",
       "      <td>2011</td>\n",
       "      <td>335.0</td>\n",
       "      <td>6.0</td>\n",
       "      <td>MANUAL</td>\n",
       "      <td>Coupe</td>\n",
       "      <td>26</td>\n",
       "      <td>19</td>\n",
       "      <td>1</td>\n",
       "    </tr>\n",
       "    <tr>\n",
       "      <th>1</th>\n",
       "      <td>BMW</td>\n",
       "      <td>1 Series</td>\n",
       "      <td>2011</td>\n",
       "      <td>300.0</td>\n",
       "      <td>6.0</td>\n",
       "      <td>MANUAL</td>\n",
       "      <td>Convertible</td>\n",
       "      <td>28</td>\n",
       "      <td>19</td>\n",
       "      <td>1</td>\n",
       "    </tr>\n",
       "    <tr>\n",
       "      <th>2</th>\n",
       "      <td>BMW</td>\n",
       "      <td>1 Series</td>\n",
       "      <td>2011</td>\n",
       "      <td>300.0</td>\n",
       "      <td>6.0</td>\n",
       "      <td>MANUAL</td>\n",
       "      <td>Coupe</td>\n",
       "      <td>28</td>\n",
       "      <td>20</td>\n",
       "      <td>0</td>\n",
       "    </tr>\n",
       "    <tr>\n",
       "      <th>3</th>\n",
       "      <td>BMW</td>\n",
       "      <td>1 Series</td>\n",
       "      <td>2011</td>\n",
       "      <td>230.0</td>\n",
       "      <td>6.0</td>\n",
       "      <td>MANUAL</td>\n",
       "      <td>Coupe</td>\n",
       "      <td>28</td>\n",
       "      <td>18</td>\n",
       "      <td>0</td>\n",
       "    </tr>\n",
       "    <tr>\n",
       "      <th>4</th>\n",
       "      <td>BMW</td>\n",
       "      <td>1 Series</td>\n",
       "      <td>2011</td>\n",
       "      <td>230.0</td>\n",
       "      <td>6.0</td>\n",
       "      <td>MANUAL</td>\n",
       "      <td>Convertible</td>\n",
       "      <td>28</td>\n",
       "      <td>18</td>\n",
       "      <td>0</td>\n",
       "    </tr>\n",
       "  </tbody>\n",
       "</table>\n",
       "</div>"
      ],
      "text/plain": [
       "  make       model  year  engine_hp  engine_cylinders transmission_type  \\\n",
       "0  BMW  1 Series M  2011      335.0               6.0            MANUAL   \n",
       "1  BMW    1 Series  2011      300.0               6.0            MANUAL   \n",
       "2  BMW    1 Series  2011      300.0               6.0            MANUAL   \n",
       "3  BMW    1 Series  2011      230.0               6.0            MANUAL   \n",
       "4  BMW    1 Series  2011      230.0               6.0            MANUAL   \n",
       "\n",
       "  vehicle_style  highway_mpg  city_mpg  above_average  \n",
       "0         Coupe           26        19              1  \n",
       "1   Convertible           28        19              1  \n",
       "2         Coupe           28        20              0  \n",
       "3         Coupe           28        18              0  \n",
       "4   Convertible           28        18              0  "
      ]
     },
     "execution_count": 51,
     "metadata": {},
     "output_type": "execute_result"
    }
   ],
   "source": [
    "df.head()"
   ]
  },
  {
   "cell_type": "code",
   "execution_count": 83,
   "metadata": {},
   "outputs": [],
   "source": [
    "from sklearn.model_selection import train_test_split\n",
    "\n",
    "df_full_train, df_test = train_test_split(df, test_size=0.2, random_state=42)\n",
    "df_train, df_val = train_test_split(df_full_train, test_size=0.25, random_state=42)"
   ]
  },
  {
   "cell_type": "code",
   "execution_count": 84,
   "metadata": {},
   "outputs": [
    {
     "data": {
      "text/plain": [
       "(0.6, 0.2, 0.2)"
      ]
     },
     "execution_count": 84,
     "metadata": {},
     "output_type": "execute_result"
    }
   ],
   "source": [
    "# check split\n",
    "round(len(df_train)/len(df),2), round(len(df_val)/len(df),2), round(len(df_test)/len(df),2)"
   ]
  },
  {
   "cell_type": "markdown",
   "metadata": {},
   "source": [
    "# Q3"
   ]
  },
  {
   "cell_type": "code",
   "execution_count": 85,
   "metadata": {},
   "outputs": [],
   "source": [
    "from sklearn.metrics import mutual_info_score"
   ]
  },
  {
   "cell_type": "code",
   "execution_count": 86,
   "metadata": {},
   "outputs": [
    {
     "name": "stdout",
     "output_type": "stream",
     "text": [
      "<class 'pandas.core.frame.DataFrame'>\n",
      "Int64Index: 7148 entries, 3972 to 10286\n",
      "Data columns (total 10 columns):\n",
      " #   Column             Non-Null Count  Dtype  \n",
      "---  ------             --------------  -----  \n",
      " 0   make               7148 non-null   object \n",
      " 1   model              7148 non-null   object \n",
      " 2   year               7148 non-null   int64  \n",
      " 3   engine_hp          7148 non-null   float64\n",
      " 4   engine_cylinders   7148 non-null   float64\n",
      " 5   transmission_type  7148 non-null   object \n",
      " 6   vehicle_style      7148 non-null   object \n",
      " 7   highway_mpg        7148 non-null   int64  \n",
      " 8   city_mpg           7148 non-null   int64  \n",
      " 9   above_average      7148 non-null   int64  \n",
      "dtypes: float64(2), int64(4), object(4)\n",
      "memory usage: 614.3+ KB\n"
     ]
    }
   ],
   "source": [
    "df_train.info()"
   ]
  },
  {
   "cell_type": "code",
   "execution_count": 87,
   "metadata": {},
   "outputs": [
    {
     "data": {
      "text/plain": [
       "['make', 'model', 'transmission_type', 'vehicle_style']"
      ]
     },
     "execution_count": 87,
     "metadata": {},
     "output_type": "execute_result"
    }
   ],
   "source": [
    "CATEGORICAL = ['make','model','transmission_type','vehicle_style']\n",
    "CATEGORICAL"
   ]
  },
  {
   "cell_type": "code",
   "execution_count": 89,
   "metadata": {},
   "outputs": [
    {
     "name": "stdout",
     "output_type": "stream",
     "text": [
      " Variable \"make\", Mutual Information Score = 0.24\n",
      " Variable \"model\", Mutual Information Score = 0.46\n",
      " Variable \"transmission_type\", Mutual Information Score = 0.02\n",
      " Variable \"vehicle_style\", Mutual Information Score = 0.08\n"
     ]
    }
   ],
   "source": [
    "# Q3: lowest MI is for transmission_type\n",
    "for c in CATEGORICAL:\n",
    "    print(f' Variable \"{c}\", Mutual Information Score = {round(mutual_info_score(df_train.above_average,df_train[c]),2)}')"
   ]
  },
  {
   "cell_type": "code",
   "execution_count": 90,
   "metadata": {},
   "outputs": [],
   "source": [
    "def mutual_info_churn_score(series):\n",
    "    return mutual_info_score(series, df_train.above_average)"
   ]
  },
  {
   "cell_type": "code",
   "execution_count": 91,
   "metadata": {},
   "outputs": [
    {
     "data": {
      "text/plain": [
       "model                0.462344\n",
       "make                 0.239769\n",
       "vehicle_style        0.084143\n",
       "transmission_type    0.020958\n",
       "dtype: float64"
      ]
     },
     "execution_count": 91,
     "metadata": {},
     "output_type": "execute_result"
    }
   ],
   "source": [
    "mi = df_train[CATEGORICAL].apply(mutual_info_churn_score)\n",
    "mi.sort_values(ascending=False)"
   ]
  },
  {
   "cell_type": "code",
   "execution_count": 92,
   "metadata": {},
   "outputs": [],
   "source": [
    "# Define the output variable\n",
    "y_train = df_train.above_average.values\n",
    "y_val = df_val.above_average.values\n",
    "y_test = df_test.above_average.values\n",
    "\n",
    "del df_train['above_average']\n",
    "del df_val['above_average']\n",
    "del df_test['above_average']"
   ]
  },
  {
   "cell_type": "code",
   "execution_count": 93,
   "metadata": {},
   "outputs": [
    {
     "data": {
      "text/plain": [
       "['year', 'engine_hp', 'engine_cylinders', 'highway_mpg', 'city_mpg']"
      ]
     },
     "execution_count": 93,
     "metadata": {},
     "output_type": "execute_result"
    }
   ],
   "source": [
    "NUMERICAL = [x for x in df_train.keys() if x not in CATEGORICAL]\n",
    "NUMERICAL"
   ]
  },
  {
   "cell_type": "markdown",
   "metadata": {},
   "source": [
    "# Q4"
   ]
  },
  {
   "cell_type": "code",
   "execution_count": 94,
   "metadata": {},
   "outputs": [],
   "source": [
    "from sklearn.feature_extraction import DictVectorizer"
   ]
  },
  {
   "cell_type": "code",
   "execution_count": 95,
   "metadata": {},
   "outputs": [],
   "source": [
    "dv = DictVectorizer(sparse=False)\n",
    "\n",
    "train_dict = df_train[CATEGORICAL + NUMERICAL].to_dict(orient='records')\n",
    "X_train = dv.fit_transform(train_dict)\n",
    "\n",
    "val_dict = df_val[CATEGORICAL + NUMERICAL].to_dict(orient='records')\n",
    "X_val = dv.transform(val_dict)"
   ]
  },
  {
   "cell_type": "code",
   "execution_count": 96,
   "metadata": {},
   "outputs": [],
   "source": [
    "from sklearn.linear_model import LogisticRegression"
   ]
  },
  {
   "cell_type": "code",
   "execution_count": 100,
   "metadata": {},
   "outputs": [
    {
     "data": {
      "text/html": [
       "<style>#sk-container-id-1 {color: black;}#sk-container-id-1 pre{padding: 0;}#sk-container-id-1 div.sk-toggleable {background-color: white;}#sk-container-id-1 label.sk-toggleable__label {cursor: pointer;display: block;width: 100%;margin-bottom: 0;padding: 0.3em;box-sizing: border-box;text-align: center;}#sk-container-id-1 label.sk-toggleable__label-arrow:before {content: \"▸\";float: left;margin-right: 0.25em;color: #696969;}#sk-container-id-1 label.sk-toggleable__label-arrow:hover:before {color: black;}#sk-container-id-1 div.sk-estimator:hover label.sk-toggleable__label-arrow:before {color: black;}#sk-container-id-1 div.sk-toggleable__content {max-height: 0;max-width: 0;overflow: hidden;text-align: left;background-color: #f0f8ff;}#sk-container-id-1 div.sk-toggleable__content pre {margin: 0.2em;color: black;border-radius: 0.25em;background-color: #f0f8ff;}#sk-container-id-1 input.sk-toggleable__control:checked~div.sk-toggleable__content {max-height: 200px;max-width: 100%;overflow: auto;}#sk-container-id-1 input.sk-toggleable__control:checked~label.sk-toggleable__label-arrow:before {content: \"▾\";}#sk-container-id-1 div.sk-estimator input.sk-toggleable__control:checked~label.sk-toggleable__label {background-color: #d4ebff;}#sk-container-id-1 div.sk-label input.sk-toggleable__control:checked~label.sk-toggleable__label {background-color: #d4ebff;}#sk-container-id-1 input.sk-hidden--visually {border: 0;clip: rect(1px 1px 1px 1px);clip: rect(1px, 1px, 1px, 1px);height: 1px;margin: -1px;overflow: hidden;padding: 0;position: absolute;width: 1px;}#sk-container-id-1 div.sk-estimator {font-family: monospace;background-color: #f0f8ff;border: 1px dotted black;border-radius: 0.25em;box-sizing: border-box;margin-bottom: 0.5em;}#sk-container-id-1 div.sk-estimator:hover {background-color: #d4ebff;}#sk-container-id-1 div.sk-parallel-item::after {content: \"\";width: 100%;border-bottom: 1px solid gray;flex-grow: 1;}#sk-container-id-1 div.sk-label:hover label.sk-toggleable__label {background-color: #d4ebff;}#sk-container-id-1 div.sk-serial::before {content: \"\";position: absolute;border-left: 1px solid gray;box-sizing: border-box;top: 0;bottom: 0;left: 50%;z-index: 0;}#sk-container-id-1 div.sk-serial {display: flex;flex-direction: column;align-items: center;background-color: white;padding-right: 0.2em;padding-left: 0.2em;position: relative;}#sk-container-id-1 div.sk-item {position: relative;z-index: 1;}#sk-container-id-1 div.sk-parallel {display: flex;align-items: stretch;justify-content: center;background-color: white;position: relative;}#sk-container-id-1 div.sk-item::before, #sk-container-id-1 div.sk-parallel-item::before {content: \"\";position: absolute;border-left: 1px solid gray;box-sizing: border-box;top: 0;bottom: 0;left: 50%;z-index: -1;}#sk-container-id-1 div.sk-parallel-item {display: flex;flex-direction: column;z-index: 1;position: relative;background-color: white;}#sk-container-id-1 div.sk-parallel-item:first-child::after {align-self: flex-end;width: 50%;}#sk-container-id-1 div.sk-parallel-item:last-child::after {align-self: flex-start;width: 50%;}#sk-container-id-1 div.sk-parallel-item:only-child::after {width: 0;}#sk-container-id-1 div.sk-dashed-wrapped {border: 1px dashed gray;margin: 0 0.4em 0.5em 0.4em;box-sizing: border-box;padding-bottom: 0.4em;background-color: white;}#sk-container-id-1 div.sk-label label {font-family: monospace;font-weight: bold;display: inline-block;line-height: 1.2em;}#sk-container-id-1 div.sk-label-container {text-align: center;}#sk-container-id-1 div.sk-container {/* jupyter's `normalize.less` sets `[hidden] { display: none; }` but bootstrap.min.css set `[hidden] { display: none !important; }` so we also need the `!important` here to be able to override the default hidden behavior on the sphinx rendered scikit-learn.org. See: https://github.com/scikit-learn/scikit-learn/issues/21755 */display: inline-block !important;position: relative;}#sk-container-id-1 div.sk-text-repr-fallback {display: none;}</style><div id=\"sk-container-id-1\" class=\"sk-top-container\"><div class=\"sk-text-repr-fallback\"><pre>LogisticRegression(C=10, max_iter=1000, random_state=42, solver=&#x27;liblinear&#x27;)</pre><b>In a Jupyter environment, please rerun this cell to show the HTML representation or trust the notebook. <br />On GitHub, the HTML representation is unable to render, please try loading this page with nbviewer.org.</b></div><div class=\"sk-container\" hidden><div class=\"sk-item\"><div class=\"sk-estimator sk-toggleable\"><input class=\"sk-toggleable__control sk-hidden--visually\" id=\"sk-estimator-id-1\" type=\"checkbox\" checked><label for=\"sk-estimator-id-1\" class=\"sk-toggleable__label sk-toggleable__label-arrow\">LogisticRegression</label><div class=\"sk-toggleable__content\"><pre>LogisticRegression(C=10, max_iter=1000, random_state=42, solver=&#x27;liblinear&#x27;)</pre></div></div></div></div></div>"
      ],
      "text/plain": [
       "LogisticRegression(C=10, max_iter=1000, random_state=42, solver='liblinear')"
      ]
     },
     "execution_count": 100,
     "metadata": {},
     "output_type": "execute_result"
    }
   ],
   "source": [
    "model = LogisticRegression(solver='liblinear', C=10, max_iter=1000, random_state=42)\n",
    "model.fit(X_train, y_train)\n"
   ]
  },
  {
   "cell_type": "code",
   "execution_count": 101,
   "metadata": {},
   "outputs": [
    {
     "data": {
      "text/plain": [
       "-0.3499031192168502"
      ]
     },
     "execution_count": 101,
     "metadata": {},
     "output_type": "execute_result"
    }
   ],
   "source": [
    "model.intercept_[0]\n"
   ]
  },
  {
   "cell_type": "code",
   "execution_count": 104,
   "metadata": {},
   "outputs": [
    {
     "data": {
      "text/plain": [
       "array([ 7.600e-02, -1.280e-01,  3.700e-02, -2.000e-03,  1.315e+00,\n",
       "        1.774e+00,  5.850e-01,  2.762e+00,  2.142e+00,  1.760e-01,\n",
       "        0.000e+00, -4.770e-01,  2.101e+00, -1.269e+00, -1.335e+00,\n",
       "       -3.856e+00, -5.040e-01,  3.660e-01, -1.815e+00, -7.610e-01,\n",
       "        6.050e-01, -2.380e-01, -1.248e+00, -2.693e+00,  3.750e-01,\n",
       "       -1.490e+00,  1.000e-02,  1.928e+00,  1.248e+00,  1.197e+00,\n",
       "        4.014e+00,  1.038e+00,  5.000e-03, -1.658e+00,  0.000e+00,\n",
       "        8.740e-01, -1.991e+00, -8.740e-01, -1.418e+00, -3.450e-01,\n",
       "       -3.168e+00,  2.021e+00,  9.580e-01,  8.920e-01, -2.320e-01,\n",
       "        3.240e-01, -2.701e+00, -1.910e+00,  3.225e+00, -9.930e-01,\n",
       "       -5.730e-01,  1.262e+00, -1.346e+00, -3.940e-01, -4.700e-02,\n",
       "       -9.000e-03, -2.000e-03, -1.176e+00, -9.030e-01, -3.000e-03,\n",
       "       -4.000e-03, -3.000e-03, -1.880e-01, -2.300e-02,  1.647e+00,\n",
       "        4.320e-01, -4.520e-01, -6.500e-02, -1.640e-01, -1.610e-01,\n",
       "       -0.000e+00, -1.600e-02, -9.940e-01,  1.530e-01,  2.000e-02,\n",
       "        1.451e+00,  8.340e-01, -6.020e-01, -7.600e-02,  9.900e-02,\n",
       "        0.000e+00,  1.774e+00,  4.030e-01, -2.600e-02,  1.214e+00,\n",
       "        9.040e-01, -5.100e-02, -2.490e+00, -4.400e-02, -2.830e-01,\n",
       "       -7.900e-02,  2.600e-02, -2.550e-01,  2.000e-03,  0.000e+00,\n",
       "        2.500e-02,  0.000e+00, -1.070e-01,  4.350e-01,  1.750e-01,\n",
       "       -2.432e+00, -4.000e-03,  2.000e-03,  3.000e-03, -7.000e-03,\n",
       "        1.900e-01, -5.200e-02, -7.000e-03, -2.700e-02, -1.514e+00,\n",
       "       -5.200e-02, -1.047e+00, -1.540e-01,  9.190e-01,  7.340e-01,\n",
       "       -9.760e-01,  4.810e-01,  3.140e-01, -2.240e-01, -3.300e-01,\n",
       "       -9.600e-02,  8.180e-01, -4.090e-01, -1.200e-02, -1.310e-01,\n",
       "       -4.480e-01, -8.900e-02, -8.110e-01, -1.089e+00, -9.730e-01,\n",
       "        1.509e+00,  1.337e+00,  6.590e-01,  2.740e-01,  0.000e+00,\n",
       "        0.000e+00,  1.000e-03, -1.475e+00, -3.400e-01,  1.796e+00,\n",
       "        1.139e+00, -8.000e-03, -3.000e-03, -1.041e+00, -1.500e-01,\n",
       "       -2.430e-01, -6.800e-02, -9.000e-03,  5.700e-02,  4.700e-02,\n",
       "        1.000e-03, -5.200e-02, -7.000e-03, -6.200e-02, -3.510e-01,\n",
       "       -6.600e-01, -3.400e-02, -1.000e-01,  2.206e+00,  5.300e-02,\n",
       "       -5.190e-01, -0.000e+00, -1.800e-02, -1.000e-02, -8.900e-02,\n",
       "        1.579e+00, -8.940e-01,  1.341e+00, -8.900e-02,  0.000e+00,\n",
       "       -3.000e-03, -1.700e-01, -2.000e-03, -2.570e-01, -2.100e-02,\n",
       "        1.200e-02,  1.000e-03, -3.080e-01, -3.000e-03, -4.000e-03,\n",
       "       -6.000e-03, -6.740e-01, -2.500e-02, -3.600e-02, -2.050e-01,\n",
       "       -1.608e+00, -4.000e-03,  9.430e-01,  3.720e-01, -3.500e-02,\n",
       "       -1.350e-01, -1.265e+00,  6.470e-01, -7.040e-01, -2.000e-03,\n",
       "       -8.000e-03, -1.000e-03,  3.000e-03, -1.370e-01,  1.437e+00,\n",
       "       -1.000e-01, -2.500e-02, -8.000e-03, -1.080e-01, -5.260e-01,\n",
       "       -4.300e-02,  3.240e-01,  1.039e+00, -5.240e-01,  1.900e-02,\n",
       "       -5.090e-01,  1.335e+00,  1.790e-01, -4.760e-01, -1.800e-02,\n",
       "        5.200e-01,  1.263e+00,  1.200e-02, -7.300e-02,  0.000e+00,\n",
       "        0.000e+00,  0.000e+00, -5.900e-02, -3.210e-01, -4.810e-01,\n",
       "        5.320e-01, -3.200e-02, -3.110e-01,  8.680e-01, -8.000e-03,\n",
       "       -2.262e+00, -7.770e-01, -3.400e-01, -5.010e-01, -1.868e+00,\n",
       "       -5.700e-02, -5.700e-02, -6.000e-03,  0.000e+00, -1.700e-01,\n",
       "       -2.670e-01, -9.000e-03,  1.080e-01,  7.940e-01,  4.020e-01,\n",
       "       -1.000e-03, -2.900e-02, -1.600e-02, -1.489e+00, -1.783e+00,\n",
       "       -1.600e-02, -2.000e-03, -2.850e-01, -1.000e-03, -2.000e-03,\n",
       "       -2.000e-03, -1.010e-01, -1.360e+00, -1.400e-02, -1.430e-01,\n",
       "        2.232e+00,  1.000e-03,  0.000e+00,  5.000e-03,  0.000e+00,\n",
       "        0.000e+00,  0.000e+00,  0.000e+00,  0.000e+00,  0.000e+00,\n",
       "       -2.000e-03,  1.300e-01, -1.020e-01, -2.000e-03, -1.000e-03,\n",
       "        7.430e-01,  7.000e-02,  3.590e-01, -8.000e-03, -8.200e-02,\n",
       "       -4.910e-01, -1.900e-02, -2.600e-02, -7.300e-02, -1.600e-02,\n",
       "       -8.000e-03, -4.000e-03, -5.000e-03, -2.300e-02, -2.200e-02,\n",
       "       -3.300e-02,  8.000e-03,  1.000e-03,  2.600e-02,  1.275e+00,\n",
       "       -1.120e-01, -2.800e-02,  0.000e+00, -3.000e-03,  1.389e+00,\n",
       "       -5.200e-02,  3.000e-03, -5.000e-02,  4.110e-01, -2.750e-01,\n",
       "       -5.940e-01,  3.285e+00, -1.000e-03, -9.000e-03, -1.100e-02,\n",
       "        3.401e+00, -5.600e-02, -1.260e-01, -7.640e-01, -8.000e-03,\n",
       "       -6.000e-03, -1.930e-01,  7.010e-01, -2.243e+00, -2.695e+00,\n",
       "       -3.600e-02, -4.330e-01, -9.250e-01, -1.160e-01, -5.400e-02,\n",
       "       -5.300e-02, -6.000e-03, -6.000e-03, -3.000e-03, -3.010e-01,\n",
       "       -1.000e-02, -6.300e-02,  1.308e+00,  1.763e+00, -1.430e-01,\n",
       "       -1.900e-01, -6.200e-02,  9.220e-01, -1.610e+00, -1.330e+00,\n",
       "       -2.960e-01,  5.230e-01, -2.490e-01, -2.490e-01,  2.660e-01,\n",
       "        4.500e-02,  2.600e-02,  3.800e-02,  1.990e-01, -7.800e-02,\n",
       "       -1.300e-01, -2.000e-03,  1.890e-01, -2.000e-02, -2.300e-02,\n",
       "        1.115e+00, -0.000e+00,  1.402e+00,  2.150e+00,  3.500e-01,\n",
       "       -4.500e-02, -5.610e-01, -2.000e-03, -5.250e-01, -7.600e-02,\n",
       "        1.575e+00, -1.400e-02, -8.300e-02, -2.000e-02,  0.000e+00,\n",
       "        6.100e-02,  0.000e+00, -5.780e-01, -1.360e-01,  1.031e+00,\n",
       "        1.730e-01,  2.390e-01,  2.700e-02, -0.000e+00, -7.000e-03,\n",
       "       -5.570e-01, -1.100e-02, -6.300e-02, -8.610e-01,  8.200e-02,\n",
       "        2.000e-03, -3.700e-02, -3.300e-02, -1.700e-02, -3.620e-01,\n",
       "       -6.100e-02, -1.000e-03, -3.720e-01, -2.300e-02, -6.600e-02,\n",
       "       -1.032e+00, -1.790e-01, -1.410e-01,  5.820e-01,  3.060e-01,\n",
       "       -1.008e+00,  2.600e-02, -2.300e-02, -0.000e+00, -1.912e+00,\n",
       "       -1.601e+00,  2.910e-01, -7.550e-01, -7.050e-01, -5.000e-03,\n",
       "       -1.540e-01, -8.850e-01,  6.050e-01,  8.670e-01, -6.800e-01,\n",
       "       -4.370e-01,  9.630e-01,  2.300e-02, -2.020e-01, -2.385e+00,\n",
       "        2.000e-03,  1.587e+00,  7.570e-01,  8.010e-01, -9.960e-01,\n",
       "        2.770e-01,  7.600e-02,  2.540e-01,  1.300e-02,  6.000e-03,\n",
       "       -2.300e-01, -6.300e-01,  3.290e-01,  1.024e+00, -1.300e-02,\n",
       "        7.000e-03,  5.020e-01, -1.114e+00,  2.070e-01,  1.000e-03,\n",
       "        1.000e-03, -6.700e-02, -1.000e-02, -2.920e-01, -3.370e-01,\n",
       "       -1.490e-01,  1.190e-01,  5.000e-02,  1.300e-02, -1.800e-02,\n",
       "       -2.610e-01, -3.440e-01, -5.800e-02, -2.700e-02,  4.640e-01,\n",
       "       -7.020e-01, -1.130e-01, -5.100e-02, -5.100e-01,  5.010e-01,\n",
       "        7.800e-01, -0.000e+00,  0.000e+00, -2.770e-01, -2.810e-01,\n",
       "       -7.560e-01, -1.700e-02, -6.000e-01, -4.450e-01,  4.790e-01,\n",
       "       -2.280e-01, -6.120e-01,  5.200e-02,  1.000e-02,  2.210e-01,\n",
       "       -6.100e-01, -1.000e-03, -4.500e-02, -2.290e-01, -7.000e-03,\n",
       "       -1.060e-01, -2.800e-02, -1.100e-01, -1.340e-01,  4.740e-01,\n",
       "       -4.560e-01, -4.960e-01, -1.680e-01, -1.410e-01, -2.160e-01,\n",
       "       -5.310e-01, -9.700e-02, -0.000e+00,  7.110e-01, -1.230e-01,\n",
       "        0.000e+00, -8.300e-02, -1.600e-01,  2.820e-01,  1.920e-01,\n",
       "       -3.870e-01, -9.100e-01,  3.380e-01,  3.430e-01,  4.000e-03,\n",
       "       -2.900e-02, -5.000e-03, -1.230e-01,  6.180e-01,  5.700e-02,\n",
       "       -1.185e+00, -2.900e-02, -2.960e-01, -9.000e-03,  9.200e-02,\n",
       "       -1.500e-02, -5.000e-03, -1.000e-03, -6.300e-02, -7.200e-02,\n",
       "       -1.480e-01, -4.720e-01,  7.000e-03, -1.000e-03,  7.680e-01,\n",
       "       -1.500e-02, -3.000e-03,  1.060e+00,  1.589e+00,  9.600e-02,\n",
       "        1.100e-02, -8.000e-02,  1.740e+00,  2.320e-01,  2.300e-02,\n",
       "        1.056e+00,  0.000e+00,  3.700e-02,  0.000e+00,  0.000e+00,\n",
       "        1.690e+00, -1.810e-01, -7.310e-01,  4.820e-01, -9.740e-01,\n",
       "        5.860e-01, -1.900e-01,  0.000e+00, -6.700e-02, -5.000e-03,\n",
       "       -3.500e-02, -1.000e-03, -2.010e-01, -2.000e-03,  3.920e-01,\n",
       "       -1.228e+00, -2.970e-01, -3.300e-02, -1.000e-02, -4.300e-02,\n",
       "       -3.600e-02, -1.114e+00, -4.130e-01, -9.180e-01, -7.000e-03,\n",
       "       -1.077e+00,  0.000e+00, -1.200e-02, -2.400e-02, -4.000e-03,\n",
       "       -1.880e-01, -0.000e+00, -0.000e+00, -7.200e-02, -5.000e-03,\n",
       "       -1.000e-03,  3.225e+00, -1.000e-03, -4.200e-02, -6.000e-03,\n",
       "       -1.690e-01, -3.900e-02, -1.610e-01,  3.000e-03,  1.200e+00,\n",
       "        1.442e+00,  0.000e+00, -1.797e+00, -7.110e-01,  1.901e+00,\n",
       "       -4.000e-03, -1.000e-03, -2.047e+00,  2.350e-01, -7.000e-03,\n",
       "        1.690e-01, -2.500e-02, -1.260e-01, -2.500e-02, -4.800e-02,\n",
       "       -1.680e-01,  1.989e+00, -0.000e+00, -5.020e-01, -7.300e-02,\n",
       "       -3.250e-01, -1.750e-01, -1.700e-01, -1.600e-02, -3.150e-01,\n",
       "        5.290e-01,  7.100e-01, -2.000e-03, -5.040e-01, -1.570e-01,\n",
       "        1.870e-01,  1.546e+00,  3.900e-02,  2.700e-02,  5.000e-03,\n",
       "       -2.000e-03, -3.600e-02, -0.000e+00, -1.600e-02, -3.100e-02,\n",
       "       -6.400e-02, -6.000e-03, -1.800e-02, -8.900e-02, -3.000e-03,\n",
       "       -1.000e-03, -2.000e-03, -1.000e-03,  4.610e-01, -1.634e+00,\n",
       "       -6.190e-01,  2.120e-01,  6.450e-01,  7.480e-01,  4.550e-01,\n",
       "        2.616e+00,  6.500e-01,  1.299e+00,  6.000e-02, -3.890e-01,\n",
       "       -2.312e+00,  4.700e-01,  2.056e+00,  5.090e-01,  8.200e-02,\n",
       "        1.570e-01,  6.380e-01,  2.191e+00, -1.700e-02,  1.700e-02,\n",
       "       -5.000e-03, -3.000e-03, -3.780e-01,  1.108e+00, -2.480e-01,\n",
       "       -4.860e-01,  1.056e+00,  6.240e-01, -2.362e+00,  1.283e+00,\n",
       "        8.170e-01,  2.000e-02,  4.000e-03,  0.000e+00, -3.600e-02,\n",
       "       -7.410e-01, -9.090e-01,  7.890e-01,  3.930e-01,  1.900e-01,\n",
       "       -3.800e-02, -5.800e-02, -1.500e-02, -8.900e-02, -1.107e+00,\n",
       "       -1.100e-02, -0.000e+00, -5.000e-03, -1.302e+00, -5.000e-03,\n",
       "       -0.000e+00, -1.900e-02,  2.540e-01,  2.049e+00,  1.920e-01,\n",
       "       -1.300e-02,  1.800e-02,  1.000e-03, -2.800e-02, -7.610e-01,\n",
       "       -1.700e-02, -4.400e-02, -4.000e-03,  0.000e+00,  1.470e-01,\n",
       "       -2.900e-02, -5.800e-02, -4.440e-01, -2.220e-01, -3.900e-02,\n",
       "       -2.500e-02, -2.110e-01, -1.000e-02, -1.800e-02, -1.000e-03,\n",
       "       -1.200e-02,  1.400e-02, -2.680e-01,  1.560e-01,  2.840e-01,\n",
       "       -3.950e-01,  1.930e-01,  5.000e-03, -4.300e-01,  5.650e-01,\n",
       "        4.000e-03, -2.600e-01,  0.000e+00,  6.080e-01,  1.180e-01,\n",
       "       -2.840e-01, -7.820e-01,  1.260e-01,  3.900e-02,  8.000e-03,\n",
       "        9.060e-01,  0.000e+00,  0.000e+00,  0.000e+00,  0.000e+00,\n",
       "       -7.000e-02,  3.600e-02,  3.000e-03, -1.135e+00,  4.400e-01,\n",
       "        2.000e-03, -2.900e-02, -2.800e-02, -1.200e-02, -1.700e-02,\n",
       "       -0.000e+00, -7.800e-01, -3.070e-01, -7.310e-01, -2.900e-01,\n",
       "       -1.000e-03, -3.580e-01, -3.000e-02, -4.900e-02, -4.000e-03,\n",
       "        1.075e+00,  6.470e-01, -2.000e-03,  3.800e-02,  0.000e+00,\n",
       "       -7.000e-03,  1.022e+00,  1.600e+00, -9.140e-01,  1.018e+00,\n",
       "       -6.410e-01, -7.700e-02, -7.000e-03, -1.000e-03, -8.300e-02,\n",
       "        7.550e-01,  1.693e+00, -6.650e-01,  1.838e+00, -2.000e-02,\n",
       "       -1.670e-01, -2.700e-01, -8.200e-02, -3.000e-02, -4.000e-03,\n",
       "       -5.590e-01, -1.800e-02, -4.100e-02, -3.000e-03, -1.763e+00,\n",
       "       -1.800e-02, -0.000e+00, -3.430e-01, -9.000e-03,  6.900e-02,\n",
       "       -3.000e-03, -5.700e-02, -1.300e-02,  1.297e+00, -3.000e-03,\n",
       "       -3.000e-03, -1.000e-03, -6.000e-03, -1.000e-03, -1.800e-02,\n",
       "       -5.000e-03,  4.400e-02, -4.770e-01, -1.046e+00, -4.120e-01,\n",
       "        3.690e-01,  1.530e-01, -8.480e-01,  1.882e+00,  1.130e+00,\n",
       "       -8.300e-02, -8.340e-01, -3.200e-01, -1.000e-03, -1.000e-03,\n",
       "       -3.970e-01, -2.580e-01, -1.033e+00, -7.000e-03, -4.710e-01,\n",
       "       -1.365e+00, -1.000e-02, -1.760e-01,  3.291e+00,  2.800e-02,\n",
       "        2.530e+00, -1.700e-02, -2.100e-02, -3.332e+00, -8.770e-01,\n",
       "       -1.600e-02, -8.800e-02,  1.622e+00,  3.780e-01, -6.100e-02,\n",
       "       -2.060e-01, -4.230e-01, -5.900e-02, -5.000e-03, -8.900e-02,\n",
       "       -1.309e+00, -2.200e-01, -2.930e-01,  3.000e-02,  1.200e-02,\n",
       "        1.000e-03, -1.140e-01, -5.740e-01, -5.440e-01,  1.651e+00,\n",
       "       -1.820e-01,  4.860e-01, -1.000e-03, -1.000e-03, -6.000e-03,\n",
       "        1.000e-03, -0.000e+00, -3.900e-02, -4.400e-02, -1.011e+00,\n",
       "       -3.610e-01, -3.310e-01, -1.000e-02, -1.400e-02, -5.000e-03,\n",
       "        0.000e+00, -3.000e-03, -2.400e-02,  1.400e-02,  1.000e-03,\n",
       "       -1.400e-02, -4.300e-02, -5.590e-01, -7.300e-02, -1.100e-02,\n",
       "        0.000e+00, -1.000e-03, -2.050e+00, -1.620e-01,  6.100e-01,\n",
       "        4.060e-01,  0.000e+00,  1.760e-01,  0.000e+00, -5.500e-02,\n",
       "        3.010e-01,  7.160e-01,  1.401e+00, -3.000e-03, -1.300e-02,\n",
       "       -1.370e-01, -1.189e+00,  1.420e-01,  2.000e-03, -1.000e-03,\n",
       "        7.700e-02,  9.640e-01, -4.300e-02, -7.280e-01, -8.000e-03,\n",
       "       -1.000e-03,  8.220e-01, -6.800e-02,  9.710e-01,  1.047e+00,\n",
       "       -9.060e-01,  3.020e-01,  3.690e-01,  1.700e-02,  1.883e+00,\n",
       "        1.437e+00, -1.100e-01, -1.236e+00, -2.250e-01,  5.000e-03,\n",
       "       -6.000e-03, -3.000e-03, -4.800e-02, -3.000e-03, -3.000e-02,\n",
       "       -6.000e-03, -9.000e-03, -5.100e-02,  5.320e-01, -7.300e-01,\n",
       "       -9.100e-02, -1.707e+00,  3.180e-01, -1.201e+00,  1.164e+00,\n",
       "       -1.760e-01, -4.690e-01,  1.599e+00,  1.437e+00, -3.930e-01,\n",
       "        2.660e-01, -9.220e-01,  1.655e+00,  2.130e-01, -3.018e+00,\n",
       "        6.090e-01,  2.760e-01, -6.000e-03])"
      ]
     },
     "execution_count": 104,
     "metadata": {},
     "output_type": "execute_result"
    }
   ],
   "source": [
    "model.coef_[0].round(3)\n"
   ]
  },
  {
   "cell_type": "code",
   "execution_count": 102,
   "metadata": {},
   "outputs": [],
   "source": [
    "y_pred = model.predict_proba(X_val)[:, 1]"
   ]
  },
  {
   "cell_type": "code",
   "execution_count": 105,
   "metadata": {},
   "outputs": [],
   "source": [
    "avg_decision = (y_pred >= 0.5)\n"
   ]
  },
  {
   "cell_type": "code",
   "execution_count": 106,
   "metadata": {},
   "outputs": [
    {
     "data": {
      "text/plain": [
       "0.9454469156525388"
      ]
     },
     "execution_count": 106,
     "metadata": {},
     "output_type": "execute_result"
    }
   ],
   "source": [
    "(y_val == avg_decision).mean()\n"
   ]
  },
  {
   "cell_type": "code",
   "execution_count": 107,
   "metadata": {},
   "outputs": [],
   "source": [
    "df_pred = pd.DataFrame()\n",
    "df_pred['probability'] = y_pred\n",
    "df_pred['prediction'] = avg_decision.astype(int)\n",
    "df_pred['actual'] = y_val"
   ]
  },
  {
   "cell_type": "code",
   "execution_count": 108,
   "metadata": {},
   "outputs": [],
   "source": [
    "df_pred['correct'] = df_pred.prediction == df_pred.actual"
   ]
  },
  {
   "cell_type": "code",
   "execution_count": 110,
   "metadata": {},
   "outputs": [
    {
     "data": {
      "text/plain": [
       "0.95"
      ]
     },
     "execution_count": 110,
     "metadata": {},
     "output_type": "execute_result"
    }
   ],
   "source": [
    "# Q4 Accuracy is 0.95\n",
    "round(df_pred.correct.mean(),2)\n"
   ]
  },
  {
   "cell_type": "markdown",
   "metadata": {},
   "source": [
    "# Q5 \"Feature elimination technique\""
   ]
  },
  {
   "cell_type": "code",
   "execution_count": null,
   "metadata": {},
   "outputs": [],
   "source": [
    "# tbd"
   ]
  },
  {
   "cell_type": "markdown",
   "metadata": {},
   "source": [
    "# Q6 \"Linear regression from Scikit-learn\""
   ]
  },
  {
   "cell_type": "code",
   "execution_count": null,
   "metadata": {},
   "outputs": [],
   "source": [
    "# RidgeRegression\n"
   ]
  }
 ],
 "metadata": {
  "kernelspec": {
   "display_name": "Python 3 (ipykernel)",
   "language": "python",
   "name": "python3"
  },
  "language_info": {
   "codemirror_mode": {
    "name": "ipython",
    "version": 3
   },
   "file_extension": ".py",
   "mimetype": "text/x-python",
   "name": "python",
   "nbconvert_exporter": "python",
   "pygments_lexer": "ipython3",
   "version": "3.11.4"
  },
  "orig_nbformat": 4
 },
 "nbformat": 4,
 "nbformat_minor": 2
}
