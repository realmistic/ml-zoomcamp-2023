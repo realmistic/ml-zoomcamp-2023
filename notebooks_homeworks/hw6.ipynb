{
 "cells": [
  {
   "cell_type": "code",
   "execution_count": 42,
   "metadata": {},
   "outputs": [],
   "source": [
    "import pandas as pd\n",
    "import numpy as np\n",
    "\n",
    "\n",
    "from sklearn.model_selection import train_test_split\n",
    "from sklearn.feature_extraction import DictVectorizer\n",
    "\n",
    "from sklearn.tree import DecisionTreeRegressor\n",
    "from sklearn.metrics import mean_squared_error\n",
    "\n",
    "from sklearn.ensemble import RandomForestRegressor\n",
    "\n",
    "\n",
    "from sklearn.tree import export_text\n",
    "\n",
    "import matplotlib.pyplot as plt\n"
   ]
  },
  {
   "cell_type": "code",
   "execution_count": 2,
   "metadata": {},
   "outputs": [],
   "source": [
    "url = \"https://raw.githubusercontent.com/alexeygrigorev/datasets/master/housing.csv\"\n",
    "data = pd.read_csv(url)"
   ]
  },
  {
   "cell_type": "code",
   "execution_count": 3,
   "metadata": {},
   "outputs": [
    {
     "data": {
      "text/html": [
       "<div>\n",
       "<style scoped>\n",
       "    .dataframe tbody tr th:only-of-type {\n",
       "        vertical-align: middle;\n",
       "    }\n",
       "\n",
       "    .dataframe tbody tr th {\n",
       "        vertical-align: top;\n",
       "    }\n",
       "\n",
       "    .dataframe thead th {\n",
       "        text-align: right;\n",
       "    }\n",
       "</style>\n",
       "<table border=\"1\" class=\"dataframe\">\n",
       "  <thead>\n",
       "    <tr style=\"text-align: right;\">\n",
       "      <th></th>\n",
       "      <th>longitude</th>\n",
       "      <th>latitude</th>\n",
       "      <th>housing_median_age</th>\n",
       "      <th>total_rooms</th>\n",
       "      <th>total_bedrooms</th>\n",
       "      <th>population</th>\n",
       "      <th>households</th>\n",
       "      <th>median_income</th>\n",
       "      <th>median_house_value</th>\n",
       "      <th>ocean_proximity</th>\n",
       "    </tr>\n",
       "  </thead>\n",
       "  <tbody>\n",
       "    <tr>\n",
       "      <th>0</th>\n",
       "      <td>-122.23</td>\n",
       "      <td>37.88</td>\n",
       "      <td>41.0</td>\n",
       "      <td>880.0</td>\n",
       "      <td>129.0</td>\n",
       "      <td>322.0</td>\n",
       "      <td>126.0</td>\n",
       "      <td>8.3252</td>\n",
       "      <td>452600.0</td>\n",
       "      <td>NEAR BAY</td>\n",
       "    </tr>\n",
       "    <tr>\n",
       "      <th>1</th>\n",
       "      <td>-122.22</td>\n",
       "      <td>37.86</td>\n",
       "      <td>21.0</td>\n",
       "      <td>7099.0</td>\n",
       "      <td>1106.0</td>\n",
       "      <td>2401.0</td>\n",
       "      <td>1138.0</td>\n",
       "      <td>8.3014</td>\n",
       "      <td>358500.0</td>\n",
       "      <td>NEAR BAY</td>\n",
       "    </tr>\n",
       "    <tr>\n",
       "      <th>2</th>\n",
       "      <td>-122.24</td>\n",
       "      <td>37.85</td>\n",
       "      <td>52.0</td>\n",
       "      <td>1467.0</td>\n",
       "      <td>190.0</td>\n",
       "      <td>496.0</td>\n",
       "      <td>177.0</td>\n",
       "      <td>7.2574</td>\n",
       "      <td>352100.0</td>\n",
       "      <td>NEAR BAY</td>\n",
       "    </tr>\n",
       "    <tr>\n",
       "      <th>3</th>\n",
       "      <td>-122.25</td>\n",
       "      <td>37.85</td>\n",
       "      <td>52.0</td>\n",
       "      <td>1274.0</td>\n",
       "      <td>235.0</td>\n",
       "      <td>558.0</td>\n",
       "      <td>219.0</td>\n",
       "      <td>5.6431</td>\n",
       "      <td>341300.0</td>\n",
       "      <td>NEAR BAY</td>\n",
       "    </tr>\n",
       "    <tr>\n",
       "      <th>4</th>\n",
       "      <td>-122.25</td>\n",
       "      <td>37.85</td>\n",
       "      <td>52.0</td>\n",
       "      <td>1627.0</td>\n",
       "      <td>280.0</td>\n",
       "      <td>565.0</td>\n",
       "      <td>259.0</td>\n",
       "      <td>3.8462</td>\n",
       "      <td>342200.0</td>\n",
       "      <td>NEAR BAY</td>\n",
       "    </tr>\n",
       "  </tbody>\n",
       "</table>\n",
       "</div>"
      ],
      "text/plain": [
       "   longitude  latitude  housing_median_age  total_rooms  total_bedrooms  \\\n",
       "0    -122.23     37.88                41.0        880.0           129.0   \n",
       "1    -122.22     37.86                21.0       7099.0          1106.0   \n",
       "2    -122.24     37.85                52.0       1467.0           190.0   \n",
       "3    -122.25     37.85                52.0       1274.0           235.0   \n",
       "4    -122.25     37.85                52.0       1627.0           280.0   \n",
       "\n",
       "   population  households  median_income  median_house_value ocean_proximity  \n",
       "0       322.0       126.0         8.3252            452600.0        NEAR BAY  \n",
       "1      2401.0      1138.0         8.3014            358500.0        NEAR BAY  \n",
       "2       496.0       177.0         7.2574            352100.0        NEAR BAY  \n",
       "3       558.0       219.0         5.6431            341300.0        NEAR BAY  \n",
       "4       565.0       259.0         3.8462            342200.0        NEAR BAY  "
      ]
     },
     "execution_count": 3,
     "metadata": {},
     "output_type": "execute_result"
    }
   ],
   "source": [
    "data.head()"
   ]
  },
  {
   "cell_type": "code",
   "execution_count": 4,
   "metadata": {},
   "outputs": [
    {
     "data": {
      "text/plain": [
       "Index(['longitude', 'latitude', 'housing_median_age', 'total_rooms',\n",
       "       'total_bedrooms', 'population', 'households', 'median_income',\n",
       "       'median_house_value', 'ocean_proximity'],\n",
       "      dtype='object')"
      ]
     },
     "execution_count": 4,
     "metadata": {},
     "output_type": "execute_result"
    }
   ],
   "source": [
    "data.keys()"
   ]
  },
  {
   "cell_type": "code",
   "execution_count": 5,
   "metadata": {},
   "outputs": [],
   "source": [
    "data[\"log_median_house_value\"] = np.log(data.median_house_value)"
   ]
  },
  {
   "cell_type": "code",
   "execution_count": 6,
   "metadata": {},
   "outputs": [],
   "source": [
    "del data[\"median_house_value\"]"
   ]
  },
  {
   "cell_type": "code",
   "execution_count": 7,
   "metadata": {},
   "outputs": [
    {
     "data": {
      "text/plain": [
       "<Axes: >"
      ]
     },
     "execution_count": 7,
     "metadata": {},
     "output_type": "execute_result"
    },
    {
     "data": {
      "image/png": "[encoded data removed]",
      "text/plain": [
       "<Figure size 640x480 with 1 Axes>"
      ]
     },
     "metadata": {},
     "output_type": "display_data"
    }
   ],
   "source": [
    "data.log_median_house_value.hist()"
   ]
  },
  {
   "cell_type": "code",
   "execution_count": 8,
   "metadata": {},
   "outputs": [],
   "source": [
    "TO_PREDICT = ['log_median_house_value']"
   ]
  },
  {
   "cell_type": "code",
   "execution_count": 9,
   "metadata": {},
   "outputs": [
    {
     "data": {
      "text/plain": [
       "<1H OCEAN     9136\n",
       "INLAND        6551\n",
       "NEAR OCEAN    2658\n",
       "NEAR BAY      2290\n",
       "ISLAND           5\n",
       "Name: ocean_proximity, dtype: int64"
      ]
     },
     "execution_count": 9,
     "metadata": {},
     "output_type": "execute_result"
    }
   ],
   "source": [
    "data.ocean_proximity.value_counts()"
   ]
  },
  {
   "cell_type": "code",
   "execution_count": 10,
   "metadata": {},
   "outputs": [],
   "source": [
    "FILTER = data.ocean_proximity.isin(['<1H OCEAN','INLAND'])"
   ]
  },
  {
   "cell_type": "code",
   "execution_count": 11,
   "metadata": {},
   "outputs": [
    {
     "data": {
      "text/plain": [
       "15687"
      ]
     },
     "execution_count": 11,
     "metadata": {},
     "output_type": "execute_result"
    }
   ],
   "source": [
    "data[FILTER].count()[0]"
   ]
  },
  {
   "cell_type": "code",
   "execution_count": 12,
   "metadata": {},
   "outputs": [],
   "source": [
    "df = data[FILTER].fillna(0)"
   ]
  },
  {
   "cell_type": "code",
   "execution_count": 13,
   "metadata": {},
   "outputs": [
    {
     "name": "stdout",
     "output_type": "stream",
     "text": [
      "<class 'pandas.core.frame.DataFrame'>\n",
      "Int64Index: 15687 entries, 701 to 20639\n",
      "Data columns (total 10 columns):\n",
      " #   Column                  Non-Null Count  Dtype  \n",
      "---  ------                  --------------  -----  \n",
      " 0   longitude               15687 non-null  float64\n",
      " 1   latitude                15687 non-null  float64\n",
      " 2   housing_median_age      15687 non-null  float64\n",
      " 3   total_rooms             15687 non-null  float64\n",
      " 4   total_bedrooms          15687 non-null  float64\n",
      " 5   population              15687 non-null  float64\n",
      " 6   households              15687 non-null  float64\n",
      " 7   median_income           15687 non-null  float64\n",
      " 8   ocean_proximity         15687 non-null  object \n",
      " 9   log_median_house_value  15687 non-null  float64\n",
      "dtypes: float64(9), object(1)\n",
      "memory usage: 1.3+ MB\n"
     ]
    }
   ],
   "source": [
    "df.info()"
   ]
  },
  {
   "cell_type": "code",
   "execution_count": 14,
   "metadata": {},
   "outputs": [
    {
     "data": {
      "text/plain": [
       "Index(['longitude', 'latitude', 'housing_median_age', 'total_rooms',\n",
       "       'total_bedrooms', 'population', 'households', 'median_income',\n",
       "       'ocean_proximity', 'log_median_house_value'],\n",
       "      dtype='object')"
      ]
     },
     "execution_count": 14,
     "metadata": {},
     "output_type": "execute_result"
    }
   ],
   "source": [
    "df.keys()"
   ]
  },
  {
   "cell_type": "code",
   "execution_count": 15,
   "metadata": {},
   "outputs": [],
   "source": [
    "# train/test split\n",
    "df_full_train, df_test = train_test_split(df, test_size=0.2, random_state=1)\n",
    "df_train, df_val = train_test_split(df_full_train, test_size=0.25, random_state=1)"
   ]
  },
  {
   "cell_type": "code",
   "execution_count": 16,
   "metadata": {},
   "outputs": [],
   "source": [
    "y_train = df_train['log_median_house_value']\n",
    "y_val = df_val['log_median_house_value']\n",
    "y_test = df_test['log_median_house_value']\n",
    "\n",
    "del df_train['log_median_house_value']\n",
    "del df_val['log_median_house_value']\n",
    "del df_test['log_median_house_value']"
   ]
  },
  {
   "cell_type": "code",
   "execution_count": 17,
   "metadata": {},
   "outputs": [
    {
     "data": {
      "text/plain": [
       "[]"
      ]
     },
     "execution_count": 17,
     "metadata": {},
     "output_type": "execute_result"
    }
   ],
   "source": [
    "# divide on CATEGORICAL + NUMERICAL\n",
    "CATEGORICAL = ['ocean_proximity']\n",
    "NUMERICAL = [x for x in df_train.keys() if x not in CATEGORICAL]\n",
    "\n",
    "# check: no other vars\n",
    "rest = [x for x in df_train.keys() if x not in CATEGORICAL+NUMERICAL]\n",
    "rest"
   ]
  },
  {
   "cell_type": "code",
   "execution_count": 18,
   "metadata": {},
   "outputs": [
    {
     "data": {
      "text/plain": [
       "['ocean_proximity']"
      ]
     },
     "execution_count": 18,
     "metadata": {},
     "output_type": "execute_result"
    }
   ],
   "source": [
    "CATEGORICAL"
   ]
  },
  {
   "cell_type": "code",
   "execution_count": 19,
   "metadata": {},
   "outputs": [
    {
     "data": {
      "text/plain": [
       "['longitude',\n",
       " 'latitude',\n",
       " 'housing_median_age',\n",
       " 'total_rooms',\n",
       " 'total_bedrooms',\n",
       " 'population',\n",
       " 'households',\n",
       " 'median_income']"
      ]
     },
     "execution_count": 19,
     "metadata": {},
     "output_type": "execute_result"
    }
   ],
   "source": [
    "NUMERICAL"
   ]
  },
  {
   "cell_type": "markdown",
   "metadata": {},
   "source": [
    "# Q1"
   ]
  },
  {
   "cell_type": "code",
   "execution_count": 21,
   "metadata": {},
   "outputs": [],
   "source": [
    "# Train a decision tree with some params (max_depth)\n",
    "\n",
    "def train_dt(df_train, y_train, max_depth=1, random_state=1):\n",
    "    dicts = df_train[CATEGORICAL + NUMERICAL].to_dict(orient='records')\n",
    "\n",
    "    dv = DictVectorizer(sparse=False)\n",
    "    X_train = dv.fit_transform(dicts)\n",
    "\n",
    "    model = DecisionTreeRegressor(max_depth=max_depth, random_state=random_state)\n",
    "    model.fit(X_train, y_train)\n",
    "\n",
    "    return dv, model"
   ]
  },
  {
   "cell_type": "code",
   "execution_count": 22,
   "metadata": {},
   "outputs": [],
   "source": [
    "dv_dt, model_dt = train_dt(df_train, y_train)"
   ]
  },
  {
   "cell_type": "code",
   "execution_count": 23,
   "metadata": {},
   "outputs": [],
   "source": [
    "# predict on any model and dict vectorizer (Dec Tree or Random Forest)\n",
    "def predict(df, dv, model):\n",
    "    dicts = df[CATEGORICAL + NUMERICAL].to_dict(orient='records')\n",
    "\n",
    "    X = dv.transform(dicts)\n",
    "    y_pred = model.predict(X)\n",
    "    return y_pred"
   ]
  },
  {
   "cell_type": "code",
   "execution_count": 24,
   "metadata": {},
   "outputs": [],
   "source": [
    "y_val_pred = predict(df_val, dv_dt, model_dt)"
   ]
  },
  {
   "cell_type": "code",
   "execution_count": 25,
   "metadata": {},
   "outputs": [
    {
     "data": {
      "text/plain": [
       "array([12.30066427, 12.30066427, 11.60679717, ..., 11.60679717,\n",
       "       11.60679717, 11.60679717])"
      ]
     },
     "execution_count": 25,
     "metadata": {},
     "output_type": "execute_result"
    }
   ],
   "source": [
    "y_val_pred"
   ]
  },
  {
   "cell_type": "code",
   "execution_count": 27,
   "metadata": {},
   "outputs": [
    {
     "data": {
      "text/plain": [
       "19250    12.091223\n",
       "18693    12.141534\n",
       "11842    11.478334\n",
       "Name: log_median_house_value, dtype: float64"
      ]
     },
     "execution_count": 27,
     "metadata": {},
     "output_type": "execute_result"
    }
   ],
   "source": [
    "y_val[0:3]"
   ]
  },
  {
   "cell_type": "code",
   "execution_count": 30,
   "metadata": {},
   "outputs": [
    {
     "name": "stdout",
     "output_type": "stream",
     "text": [
      "|--- ocean_proximity=INLAND <= 0.50\n",
      "|   |--- value: [12.30]\n",
      "|--- ocean_proximity=INLAND >  0.50\n",
      "|   |--- value: [11.61]\n",
      "\n"
     ]
    }
   ],
   "source": [
    "# Q1 ans == ocean_proximity\n",
    "print(export_text(model_dt, feature_names=list(dv_dt.get_feature_names_out())))"
   ]
  },
  {
   "cell_type": "markdown",
   "metadata": {},
   "source": [
    "# Q2"
   ]
  },
  {
   "cell_type": "code",
   "execution_count": 32,
   "metadata": {},
   "outputs": [],
   "source": [
    "# Train a random forest with some params (n_estimators, max_depth)\n",
    "\n",
    "def train_rf(df_train, \n",
    "             y_train, \n",
    "             n_estimators=10, \n",
    "             max_depth = None,\n",
    "             random_state=1):\n",
    "  \n",
    "    dicts = df_train[CATEGORICAL + NUMERICAL].to_dict(orient='records')\n",
    "\n",
    "    dv = DictVectorizer(sparse=False)\n",
    "    X_train = dv.fit_transform(dicts)\n",
    "\n",
    "    model = RandomForestRegressor(n_estimators=n_estimators, \n",
    "                           random_state=1,\n",
    "                           max_depth = max_depth,\n",
    "                           n_jobs=-1)\n",
    "    model.fit(X_train, y_train)\n",
    "\n",
    "    return dv, model"
   ]
  },
  {
   "cell_type": "code",
   "execution_count": 33,
   "metadata": {},
   "outputs": [],
   "source": [
    "dv_rf, model_rf = train_rf(df_train, y_train)"
   ]
  },
  {
   "cell_type": "code",
   "execution_count": 34,
   "metadata": {},
   "outputs": [],
   "source": [
    "y_val_pred_rf = predict(df_val, dv_rf, model_rf)"
   ]
  },
  {
   "cell_type": "code",
   "execution_count": 36,
   "metadata": {},
   "outputs": [
    {
     "name": "stdout",
     "output_type": "stream",
     "text": [
      "RMSE = 0.24539095817174175, rounded RMSE = 0.245\n"
     ]
    }
   ],
   "source": [
    "# q2 ans = 0.245\n",
    "rmse = mean_squared_error(y_val, \n",
    "                   y_val_pred_rf,\n",
    "                   squared=False) #this is for RMSE\n",
    "\n",
    "print(f'RMSE = {rmse}, rounded RMSE = {np.round(rmse,3)}')"
   ]
  },
  {
   "cell_type": "markdown",
   "metadata": {},
   "source": [
    "# Q3"
   ]
  },
  {
   "cell_type": "code",
   "execution_count": 39,
   "metadata": {},
   "outputs": [
    {
     "name": "stdout",
     "output_type": "stream",
     "text": [
      "n_estimators = 10, RMSE = 0.24539095817174172, rounded RMSE = 0.245\n",
      "n_estimators = 20, RMSE = 0.23880223304120454, rounded RMSE = 0.239\n",
      "n_estimators = 30, RMSE = 0.23657228292954338, rounded RMSE = 0.237\n",
      "n_estimators = 40, RMSE = 0.23482461327633428, rounded RMSE = 0.235\n",
      "n_estimators = 50, RMSE = 0.23493852291123088, rounded RMSE = 0.235\n",
      "n_estimators = 60, RMSE = 0.23484975837216063, rounded RMSE = 0.235\n",
      "n_estimators = 70, RMSE = 0.2346028007569164, rounded RMSE = 0.235\n",
      "n_estimators = 80, RMSE = 0.2347055246179976, rounded RMSE = 0.235\n",
      "n_estimators = 90, RMSE = 0.23446978540671826, rounded RMSE = 0.234\n",
      "n_estimators = 100, RMSE = 0.2342999592706307, rounded RMSE = 0.234\n",
      "n_estimators = 110, RMSE = 0.23431086680156346, rounded RMSE = 0.234\n",
      "n_estimators = 120, RMSE = 0.23403792713007845, rounded RMSE = 0.234\n",
      "n_estimators = 130, RMSE = 0.2338571152765766, rounded RMSE = 0.234\n",
      "n_estimators = 140, RMSE = 0.23367933590798595, rounded RMSE = 0.234\n",
      "n_estimators = 150, RMSE = 0.23356957360170866, rounded RMSE = 0.234\n",
      "n_estimators = 160, RMSE = 0.23342910921519963, rounded RMSE = 0.233\n",
      "n_estimators = 170, RMSE = 0.23333383002972927, rounded RMSE = 0.233\n",
      "n_estimators = 180, RMSE = 0.23354884630993797, rounded RMSE = 0.234\n",
      "n_estimators = 190, RMSE = 0.23382427295542146, rounded RMSE = 0.234\n",
      "n_estimators = 200, RMSE = 0.23372630792663035, rounded RMSE = 0.234\n",
      "CPU times: user 2min 51s, sys: 1.11 s, total: 2min 52s\n",
      "Wall time: 1min 31s\n"
     ]
    }
   ],
   "source": [
    "%%time\n",
    "scores = []\n",
    "\n",
    "for n in range(10, 201, 10):\n",
    "    dv_rf, model_rf = train_rf(df_train, y_train, n_estimators=n)\n",
    "\n",
    "    y_val_pred_rf = predict(df_val, dv_rf, model_rf)\n",
    "\n",
    "    rmse = mean_squared_error(y_val, \n",
    "                      y_val_pred_rf,\n",
    "                      squared=False) #this is for RMSE\n",
    "\n",
    "    print(f'n_estimators = {n}, RMSE = {rmse}, rounded RMSE = {np.round(rmse,3)}')\n",
    "    scores.append((n, rmse))"
   ]
  },
  {
   "cell_type": "code",
   "execution_count": 40,
   "metadata": {},
   "outputs": [],
   "source": [
    "df_scores = pd.DataFrame(scores, columns=['n_estimators', 'rmse'])"
   ]
  },
  {
   "cell_type": "code",
   "execution_count": 43,
   "metadata": {},
   "outputs": [
    {
     "data": {
      "text/plain": [
       "[<matplotlib.lines.Line2D at 0x7f4439766450>]"
      ]
     },
     "execution_count": 43,
     "metadata": {},
     "output_type": "execute_result"
    },
    {
     "data": {
      "image/png": "[encoded data removed]",
      "text/plain": [
       "<Figure size 640x480 with 1 Axes>"
      ]
     },
     "metadata": {},
     "output_type": "display_data"
    }
   ],
   "source": [
    "plt.plot(df_scores.n_estimators, df_scores.rmse)"
   ]
  },
  {
   "cell_type": "markdown",
   "metadata": {},
   "source": [
    "# Q4"
   ]
  },
  {
   "cell_type": "code",
   "execution_count": 44,
   "metadata": {},
   "outputs": [
    {
     "name": "stdout",
     "output_type": "stream",
     "text": [
      "n_estimators = 10, max_depth=10,  RMSE = 0.2510311868876959, rounded RMSE = 0.251\n",
      "n_estimators = 20, max_depth=10,  RMSE = 0.2473652137286534, rounded RMSE = 0.247\n",
      "n_estimators = 30, max_depth=10,  RMSE = 0.2463256927916003, rounded RMSE = 0.246\n",
      "n_estimators = 40, max_depth=10,  RMSE = 0.2450639489651681, rounded RMSE = 0.245\n",
      "n_estimators = 50, max_depth=10,  RMSE = 0.24540564824985506, rounded RMSE = 0.245\n",
      "n_estimators = 60, max_depth=10,  RMSE = 0.24543474635432927, rounded RMSE = 0.245\n",
      "n_estimators = 70, max_depth=10,  RMSE = 0.24552504920512955, rounded RMSE = 0.246\n",
      "n_estimators = 80, max_depth=10,  RMSE = 0.24567007161399168, rounded RMSE = 0.246\n",
      "n_estimators = 90, max_depth=10,  RMSE = 0.2455322760665391, rounded RMSE = 0.246\n",
      "n_estimators = 100, max_depth=10,  RMSE = 0.24534407752120782, rounded RMSE = 0.245\n",
      "n_estimators = 110, max_depth=10,  RMSE = 0.24525395340474349, rounded RMSE = 0.245\n",
      "n_estimators = 120, max_depth=10,  RMSE = 0.24503298302842572, rounded RMSE = 0.245\n",
      "n_estimators = 130, max_depth=10,  RMSE = 0.24486179450248413, rounded RMSE = 0.245\n",
      "n_estimators = 140, max_depth=10,  RMSE = 0.24451194557141093, rounded RMSE = 0.245\n",
      "n_estimators = 150, max_depth=10,  RMSE = 0.24448804585838255, rounded RMSE = 0.244\n",
      "n_estimators = 160, max_depth=10,  RMSE = 0.2443960364857689, rounded RMSE = 0.244\n",
      "n_estimators = 170, max_depth=10,  RMSE = 0.24433953754693877, rounded RMSE = 0.244\n",
      "n_estimators = 180, max_depth=10,  RMSE = 0.24446540629144095, rounded RMSE = 0.244\n",
      "n_estimators = 190, max_depth=10,  RMSE = 0.24463253785760705, rounded RMSE = 0.245\n",
      "n_estimators = 200, max_depth=10,  RMSE = 0.2446774181055925, rounded RMSE = 0.245\n",
      "================\n",
      "max_depth=10 , mean_RMSE=0.2454678785018482\n",
      "================\n",
      "n_estimators = 10, max_depth=15,  RMSE = 0.24532558750143368, rounded RMSE = 0.245\n",
      "n_estimators = 20, max_depth=15,  RMSE = 0.23881891866307595, rounded RMSE = 0.239\n",
      "n_estimators = 30, max_depth=15,  RMSE = 0.23748159927420195, rounded RMSE = 0.237\n",
      "n_estimators = 40, max_depth=15,  RMSE = 0.2355229455164054, rounded RMSE = 0.236\n",
      "n_estimators = 50, max_depth=15,  RMSE = 0.23546715098437448, rounded RMSE = 0.235\n",
      "n_estimators = 60, max_depth=15,  RMSE = 0.23546168853569283, rounded RMSE = 0.235\n",
      "n_estimators = 70, max_depth=15,  RMSE = 0.23535883015348197, rounded RMSE = 0.235\n",
      "n_estimators = 80, max_depth=15,  RMSE = 0.23557452075713975, rounded RMSE = 0.236\n",
      "n_estimators = 90, max_depth=15,  RMSE = 0.23533558526982387, rounded RMSE = 0.235\n",
      "n_estimators = 100, max_depth=15,  RMSE = 0.23505498056826582, rounded RMSE = 0.235\n",
      "n_estimators = 110, max_depth=15,  RMSE = 0.23497349959581187, rounded RMSE = 0.235\n",
      "n_estimators = 120, max_depth=15,  RMSE = 0.23474371444138736, rounded RMSE = 0.235\n",
      "n_estimators = 130, max_depth=15,  RMSE = 0.23457893897367718, rounded RMSE = 0.235\n",
      "n_estimators = 140, max_depth=15,  RMSE = 0.23430966400843248, rounded RMSE = 0.234\n",
      "n_estimators = 150, max_depth=15,  RMSE = 0.23420439655628578, rounded RMSE = 0.234\n",
      "n_estimators = 160, max_depth=15,  RMSE = 0.2340259078622054, rounded RMSE = 0.234\n",
      "n_estimators = 170, max_depth=15,  RMSE = 0.23410333314057372, rounded RMSE = 0.234\n",
      "n_estimators = 180, max_depth=15,  RMSE = 0.23436848021042844, rounded RMSE = 0.234\n",
      "n_estimators = 190, max_depth=15,  RMSE = 0.23452091305087092, rounded RMSE = 0.235\n",
      "n_estimators = 200, max_depth=15,  RMSE = 0.2344093259800001, rounded RMSE = 0.234\n",
      "================\n",
      "max_depth=15 , mean_RMSE=0.23568199905217843\n",
      "================\n",
      "n_estimators = 10, max_depth=20,  RMSE = 0.24428947069471096, rounded RMSE = 0.244\n",
      "n_estimators = 20, max_depth=20,  RMSE = 0.23768478277148863, rounded RMSE = 0.238\n",
      "n_estimators = 30, max_depth=20,  RMSE = 0.23594068400697205, rounded RMSE = 0.236\n",
      "n_estimators = 40, max_depth=20,  RMSE = 0.23438435970129118, rounded RMSE = 0.234\n",
      "n_estimators = 50, max_depth=20,  RMSE = 0.23421378647482713, rounded RMSE = 0.234\n",
      "n_estimators = 60, max_depth=20,  RMSE = 0.2341206238664677, rounded RMSE = 0.234\n",
      "n_estimators = 70, max_depth=20,  RMSE = 0.2340456111263602, rounded RMSE = 0.234\n",
      "n_estimators = 80, max_depth=20,  RMSE = 0.23433312581810387, rounded RMSE = 0.234\n",
      "n_estimators = 90, max_depth=20,  RMSE = 0.23413922176505153, rounded RMSE = 0.234\n",
      "n_estimators = 100, max_depth=20,  RMSE = 0.23398119169777037, rounded RMSE = 0.234\n",
      "n_estimators = 110, max_depth=20,  RMSE = 0.23394089802719736, rounded RMSE = 0.234\n",
      "n_estimators = 120, max_depth=20,  RMSE = 0.23374095636561723, rounded RMSE = 0.234\n",
      "n_estimators = 130, max_depth=20,  RMSE = 0.2334594433059157, rounded RMSE = 0.233\n",
      "n_estimators = 140, max_depth=20,  RMSE = 0.233180955770829, rounded RMSE = 0.233\n",
      "n_estimators = 150, max_depth=20,  RMSE = 0.23316709711301623, rounded RMSE = 0.233\n",
      "n_estimators = 160, max_depth=20,  RMSE = 0.233048503871913, rounded RMSE = 0.233\n",
      "n_estimators = 170, max_depth=20,  RMSE = 0.2330885184429976, rounded RMSE = 0.233\n",
      "n_estimators = 180, max_depth=20,  RMSE = 0.233327150775157, rounded RMSE = 0.233\n",
      "n_estimators = 190, max_depth=20,  RMSE = 0.23359514053106264, rounded RMSE = 0.234\n",
      "n_estimators = 200, max_depth=20,  RMSE = 0.23352163285568406, rounded RMSE = 0.234\n",
      "================\n",
      "max_depth=20 , mean_RMSE=0.23456015774912164\n",
      "================\n",
      "n_estimators = 10, max_depth=25,  RMSE = 0.2445789574070779, rounded RMSE = 0.245\n",
      "n_estimators = 20, max_depth=25,  RMSE = 0.23875208035699225, rounded RMSE = 0.239\n",
      "n_estimators = 30, max_depth=25,  RMSE = 0.2370121820698407, rounded RMSE = 0.237\n",
      "n_estimators = 40, max_depth=25,  RMSE = 0.2353544238784372, rounded RMSE = 0.235\n",
      "n_estimators = 50, max_depth=25,  RMSE = 0.23544155949075166, rounded RMSE = 0.235\n",
      "n_estimators = 60, max_depth=25,  RMSE = 0.23508838687928266, rounded RMSE = 0.235\n",
      "n_estimators = 70, max_depth=25,  RMSE = 0.23481551239419896, rounded RMSE = 0.235\n",
      "n_estimators = 80, max_depth=25,  RMSE = 0.23485198268989768, rounded RMSE = 0.235\n",
      "n_estimators = 90, max_depth=25,  RMSE = 0.2346108415279858, rounded RMSE = 0.235\n",
      "n_estimators = 100, max_depth=25,  RMSE = 0.23441577609549832, rounded RMSE = 0.234\n",
      "n_estimators = 110, max_depth=25,  RMSE = 0.2342858620124043, rounded RMSE = 0.234\n",
      "n_estimators = 120, max_depth=25,  RMSE = 0.23405268595012024, rounded RMSE = 0.234\n",
      "n_estimators = 130, max_depth=25,  RMSE = 0.23381741100530787, rounded RMSE = 0.234\n",
      "n_estimators = 140, max_depth=25,  RMSE = 0.23356516030192517, rounded RMSE = 0.234\n",
      "n_estimators = 150, max_depth=25,  RMSE = 0.2335379320594874, rounded RMSE = 0.234\n",
      "n_estimators = 160, max_depth=25,  RMSE = 0.23332919503909494, rounded RMSE = 0.233\n",
      "n_estimators = 170, max_depth=25,  RMSE = 0.2333668942326025, rounded RMSE = 0.233\n",
      "n_estimators = 180, max_depth=25,  RMSE = 0.23364806729007087, rounded RMSE = 0.234\n",
      "n_estimators = 190, max_depth=25,  RMSE = 0.23388375314461118, rounded RMSE = 0.234\n",
      "n_estimators = 200, max_depth=25,  RMSE = 0.2338301339686694, rounded RMSE = 0.234\n",
      "================\n",
      "max_depth=25 , mean_RMSE=0.23511193988971285\n",
      "================\n",
      "CPU times: user 9min 35s, sys: 2.8 s, total: 9min 38s\n",
      "Wall time: 5min 8s\n"
     ]
    }
   ],
   "source": [
    "%%time\n",
    "\n",
    "scores2 = []\n",
    "\n",
    "for d in [10, 15, 20, 25]:\n",
    "  rmses = []\n",
    "  for n in range(10, 201, 10):\n",
    "    dv_rf, model_rf = train_rf(df_train, y_train, n_estimators=n, max_depth=d)\n",
    "\n",
    "    y_val_pred_rf = predict(df_val, dv_rf, model_rf)\n",
    "\n",
    "    rmse = mean_squared_error(y_val, \n",
    "                      y_val_pred_rf,\n",
    "                      squared=False) #this is for RMSE\n",
    "\n",
    "    print(f'n_estimators = {n}, max_depth={d},  RMSE = {rmse}, rounded RMSE = {np.round(rmse,3)}')\n",
    "    scores2.append((n, d, rmse))\n",
    "    rmses.append(rmse)\n",
    "  \n",
    "  print('================')\n",
    "  print(f'max_depth={d} , mean_RMSE={np.mean(rmses)}')\n",
    "  print('================')"
   ]
  },
  {
   "cell_type": "code",
   "execution_count": 45,
   "metadata": {},
   "outputs": [],
   "source": [
    "df_scores2 = pd.DataFrame(scores2, columns=['n_estimators', 'max_depth', 'rmse'])"
   ]
  },
  {
   "cell_type": "code",
   "execution_count": 46,
   "metadata": {},
   "outputs": [
    {
     "data": {
      "text/plain": [
       "max_depth\n",
       "10    0.245468\n",
       "15    0.235682\n",
       "20    0.234560\n",
       "25    0.235112\n",
       "Name: rmse, dtype: float64"
      ]
     },
     "execution_count": 46,
     "metadata": {},
     "output_type": "execute_result"
    }
   ],
   "source": [
    "# check:\n",
    "# # answer to q4 ==> best is max_depth==20\n",
    "# ================\n",
    "# max_depth=10 , mean_RMSE=0.24546787850184826\n",
    "# max_depth=15 , mean_RMSE=0.2356819990521785\n",
    "# max_depth=20 , mean_RMSE=0.23456015774912164\n",
    "# max_depth=25 , mean_RMSE=0.23511193988971288\n",
    "# ================\n",
    "\n",
    "# answer to question 4: group by 'max_depth' and find mean rmse\n",
    "df_scores2.groupby(by='max_depth')['rmse'].mean()"
   ]
  },
  {
   "cell_type": "markdown",
   "metadata": {},
   "source": [
    "# Q5"
   ]
  },
  {
   "cell_type": "code",
   "execution_count": 47,
   "metadata": {},
   "outputs": [],
   "source": [
    "dv_rf, model_rf = train_rf(df_train, \n",
    "                           y_train, \n",
    "                           n_estimators=10, \n",
    "                           max_depth=20,\n",
    "                           random_state=1)"
   ]
  },
  {
   "cell_type": "code",
   "execution_count": 48,
   "metadata": {},
   "outputs": [
    {
     "data": {
      "text/plain": [
       "array([0.01455543, 0.03032345, 0.10151453, 0.08709334, 0.33574968,\n",
       "       0.03529711, 0.33098244, 0.02834515, 0.01515447, 0.0209844 ])"
      ]
     },
     "execution_count": 48,
     "metadata": {},
     "output_type": "execute_result"
    }
   ],
   "source": [
    "model_rf.feature_importances_"
   ]
  },
  {
   "cell_type": "code",
   "execution_count": 49,
   "metadata": {},
   "outputs": [
    {
     "data": {
      "image/png": "[encoded data removed]",
      "text/plain": [
       "<Figure size 640x480 with 1 Axes>"
      ]
     },
     "metadata": {},
     "output_type": "display_data"
    }
   ],
   "source": [
    "# https://scikit-learn.org/stable/auto_examples/ensemble/plot_forest_importances.html\n",
    "\n",
    "forest_importances = pd.Series(model_rf.feature_importances_, index=list(dv_rf.get_feature_names_out()))\n",
    "\n",
    "fig, ax = plt.subplots()\n",
    "forest_importances.plot.bar(ax=ax)\n",
    "ax.set_title(\"Feature importances using MDI\")\n",
    "ax.set_ylabel(\"Mean decrease in impurity\")\n",
    "fig.tight_layout()"
   ]
  },
  {
   "cell_type": "code",
   "execution_count": 50,
   "metadata": {},
   "outputs": [],
   "source": [
    "# for i, element in enumerate(model_rf.feature_importances_):\n",
    "#     print(i, list2[i], list3[i])\n",
    "\n",
    "res = []\n",
    "\n",
    "for f,i in zip(list(dv_rf.get_feature_names_out()),model_rf.feature_importances_):\n",
    "  res.append((f,i))"
   ]
  },
  {
   "cell_type": "code",
   "execution_count": 51,
   "metadata": {},
   "outputs": [
    {
     "data": {
      "text/plain": [
       "[('households', 0.014555433639129103),\n",
       " ('total_bedrooms', 0.015154470388830506),\n",
       " ('total_rooms', 0.02098439729588686),\n",
       " ('population', 0.028345150071234507),\n",
       " ('housing_median_age', 0.030323451392227505),\n",
       " ('ocean_proximity=<1H OCEAN', 0.035297113178256095),\n",
       " ('longitude', 0.08709333928795938),\n",
       " ('latitude', 0.10151452760305246),\n",
       " ('ocean_proximity=INLAND', 0.33098243681580797),\n",
       " ('median_income', 0.33574968032761554)]"
      ]
     },
     "execution_count": 51,
     "metadata": {},
     "output_type": "execute_result"
    }
   ],
   "source": [
    "# features importance sorted ascending ==> median_income is the most important\n",
    "sorted(res, key=lambda x: x[1])"
   ]
  },
  {
   "cell_type": "markdown",
   "metadata": {},
   "source": [
    "# Q6"
   ]
  },
  {
   "cell_type": "code",
   "execution_count": 52,
   "metadata": {},
   "outputs": [
    {
     "name": "stdout",
     "output_type": "stream",
     "text": [
      "Collecting xgboost\n",
      "  Obtaining dependency information for xgboost from https://files.pythonhosted.org/packages/c1/cf/a662bc8f40588d54663edfe12980946670490bff0b6e793c7896a4fe36df/xgboost-2.0.0-py3-none-manylinux2014_x86_64.whl.metadata\n",
      "  Downloading xgboost-2.0.0-py3-none-manylinux2014_x86_64.whl.metadata (2.0 kB)\n",
      "Requirement already satisfied: numpy in /home/realmistic/anaconda3/lib/python3.11/site-packages (from xgboost) (1.24.3)\n",
      "Requirement already satisfied: scipy in /home/realmistic/anaconda3/lib/python3.11/site-packages (from xgboost) (1.10.1)\n",
      "Downloading xgboost-2.0.0-py3-none-manylinux2014_x86_64.whl (297.1 MB)\n",
      "\u001b[2K   \u001b[90m━━━━━━━━━━━━━━━━━━━━━━━━━━━━━━━━━━━━━━━━\u001b[0m \u001b[32m297.1/297.1 MB\u001b[0m \u001b[31m8.4 MB/s\u001b[0m eta \u001b[36m0:00:00\u001b[0m:00:01\u001b[0m00:01\u001b[0m\n",
      "\u001b[?25hInstalling collected packages: xgboost\n",
      "Successfully installed xgboost-2.0.0\n"
     ]
    }
   ],
   "source": [
    "!pip install xgboost"
   ]
  },
  {
   "cell_type": "code",
   "execution_count": 53,
   "metadata": {},
   "outputs": [],
   "source": [
    "import xgboost as xgb"
   ]
  },
  {
   "cell_type": "code",
   "execution_count": 54,
   "metadata": {},
   "outputs": [],
   "source": [
    "dicts = df_train[CATEGORICAL + NUMERICAL].to_dict(orient='records')\n",
    "dv = DictVectorizer(sparse=False)\n",
    "X_train = dv.fit_transform(dicts)\n",
    "\n",
    "dicts_val = df_val[CATEGORICAL + NUMERICAL].to_dict(orient='records')\n",
    "dv_val = DictVectorizer(sparse=False)\n",
    "X_val = dv_val.fit_transform(dicts_val)"
   ]
  },
  {
   "cell_type": "code",
   "execution_count": 55,
   "metadata": {},
   "outputs": [
    {
     "data": {
      "text/plain": [
       "['households',\n",
       " 'housing_median_age',\n",
       " 'latitude',\n",
       " 'longitude',\n",
       " 'median_income',\n",
       " 'ocean_proximity_eq_lt_1H OCEAN',\n",
       " 'ocean_proximity_eq_INLAND',\n",
       " 'population',\n",
       " 'total_bedrooms',\n",
       " 'total_rooms']"
      ]
     },
     "execution_count": 55,
     "metadata": {},
     "output_type": "execute_result"
    }
   ],
   "source": [
    "# hack for features names to be correct\n",
    "features = [x.replace('=','_eq_').replace('<','lt_') for x in list(dv.get_feature_names_out())]\n",
    "features"
   ]
  },
  {
   "cell_type": "code",
   "execution_count": 56,
   "metadata": {},
   "outputs": [],
   "source": [
    "dtrain = xgb.DMatrix(X_train, label=y_train, feature_names=features)\n",
    "dval = xgb.DMatrix(X_val, label=y_val, feature_names=features)"
   ]
  },
  {
   "cell_type": "code",
   "execution_count": 57,
   "metadata": {},
   "outputs": [],
   "source": [
    "xgb_params = {\n",
    "    'eta': 0.3, \n",
    "    'max_depth': 6,\n",
    "    'min_child_weight': 1,\n",
    "    \n",
    "    'objective': 'reg:squarederror',\n",
    "    'nthread': 8,\n",
    "    \n",
    "    'seed': 1,\n",
    "    'verbosity': 1,\n",
    "}"
   ]
  },
  {
   "cell_type": "code",
   "execution_count": 58,
   "metadata": {},
   "outputs": [
    {
     "data": {
      "text/plain": [
       "{'eta': 0.3,\n",
       " 'max_depth': 6,\n",
       " 'min_child_weight': 1,\n",
       " 'objective': 'reg:squarederror',\n",
       " 'nthread': 8,\n",
       " 'seed': 1,\n",
       " 'verbosity': 1}"
      ]
     },
     "execution_count": 58,
     "metadata": {},
     "output_type": "execute_result"
    }
   ],
   "source": [
    "xgb_params_eta_eq_03 = xgb_params.copy()\n",
    "xgb_params_eta_eq_03"
   ]
  },
  {
   "cell_type": "code",
   "execution_count": 60,
   "metadata": {},
   "outputs": [],
   "source": [
    "watchlist = [(dtrain, 'train'), (dval, 'val')]"
   ]
  },
  {
   "cell_type": "code",
   "execution_count": 61,
   "metadata": {},
   "outputs": [
    {
     "name": "stdout",
     "output_type": "stream",
     "text": [
      "[0]\ttrain-rmse:0.44351\tval-rmse:0.44250\n",
      "[5]\ttrain-rmse:0.25338\tval-rmse:0.27463\n"
     ]
    },
    {
     "name": "stdout",
     "output_type": "stream",
     "text": [
      "[10]\ttrain-rmse:0.21445\tval-rmse:0.25179\n",
      "[15]\ttrain-rmse:0.19858\tval-rmse:0.24523\n",
      "[20]\ttrain-rmse:0.18524\tval-rmse:0.23978\n",
      "[25]\ttrain-rmse:0.17757\tval-rmse:0.23830\n",
      "[30]\ttrain-rmse:0.16888\tval-rmse:0.23571\n",
      "[35]\ttrain-rmse:0.16113\tval-rmse:0.23416\n",
      "[40]\ttrain-rmse:0.15542\tval-rmse:0.23319\n",
      "[45]\ttrain-rmse:0.14941\tval-rmse:0.23190\n",
      "[50]\ttrain-rmse:0.14536\tval-rmse:0.23225\n",
      "[55]\ttrain-rmse:0.14150\tval-rmse:0.23197\n",
      "[60]\ttrain-rmse:0.13719\tval-rmse:0.23139\n",
      "[65]\ttrain-rmse:0.13260\tval-rmse:0.23158\n",
      "[70]\ttrain-rmse:0.12943\tval-rmse:0.23068\n",
      "[75]\ttrain-rmse:0.12555\tval-rmse:0.23039\n",
      "[80]\ttrain-rmse:0.12192\tval-rmse:0.22886\n",
      "[85]\ttrain-rmse:0.11854\tval-rmse:0.22888\n",
      "[90]\ttrain-rmse:0.11504\tval-rmse:0.22877\n",
      "[95]\ttrain-rmse:0.11266\tval-rmse:0.22865\n",
      "[99]\ttrain-rmse:0.11043\tval-rmse:0.22873\n"
     ]
    }
   ],
   "source": [
    "model_xgb_eta_eq_0_3 = xgb.train(xgb_params_eta_eq_03, dtrain, num_boost_round=100,\n",
    "                  verbose_eval=5,\n",
    "                  evals=watchlist)"
   ]
  },
  {
   "cell_type": "code",
   "execution_count": 62,
   "metadata": {},
   "outputs": [
    {
     "data": {
      "text/plain": [
       "{'eta': 0.1,\n",
       " 'max_depth': 6,\n",
       " 'min_child_weight': 1,\n",
       " 'objective': 'reg:squarederror',\n",
       " 'nthread': 8,\n",
       " 'seed': 1,\n",
       " 'verbosity': 1}"
      ]
     },
     "execution_count": 62,
     "metadata": {},
     "output_type": "execute_result"
    }
   ],
   "source": [
    "xgb_params_eta_eq_01= xgb_params.copy()\n",
    "\n",
    "xgb_params_eta_eq_01['eta']=0.1\n",
    "xgb_params_eta_eq_01"
   ]
  },
  {
   "cell_type": "code",
   "execution_count": 63,
   "metadata": {},
   "outputs": [
    {
     "name": "stdout",
     "output_type": "stream",
     "text": [
      "[0]\ttrain-rmse:0.52449\tval-rmse:0.52045\n",
      "[5]\ttrain-rmse:0.37823\tval-rmse:0.38152\n",
      "[10]\ttrain-rmse:0.30326\tval-rmse:0.31427\n",
      "[15]\ttrain-rmse:0.26539\tval-rmse:0.28380\n",
      "[20]\ttrain-rmse:0.24512\tval-rmse:0.26882\n",
      "[25]\ttrain-rmse:0.23027\tval-rmse:0.25997\n",
      "[30]\ttrain-rmse:0.21887\tval-rmse:0.25267\n",
      "[35]\ttrain-rmse:0.21020\tval-rmse:0.24827\n",
      "[40]\ttrain-rmse:0.20392\tval-rmse:0.24539\n",
      "[45]\ttrain-rmse:0.19814\tval-rmse:0.24293\n",
      "[50]\ttrain-rmse:0.19215\tval-rmse:0.24020\n",
      "[55]\ttrain-rmse:0.18809\tval-rmse:0.23878\n",
      "[60]\ttrain-rmse:0.18457\tval-rmse:0.23791\n",
      "[65]\ttrain-rmse:0.18064\tval-rmse:0.23698\n",
      "[70]\ttrain-rmse:0.17741\tval-rmse:0.23622\n",
      "[75]\ttrain-rmse:0.17468\tval-rmse:0.23510\n",
      "[80]\ttrain-rmse:0.17242\tval-rmse:0.23454\n",
      "[85]\ttrain-rmse:0.17014\tval-rmse:0.23404\n",
      "[90]\ttrain-rmse:0.16798\tval-rmse:0.23332\n",
      "[95]\ttrain-rmse:0.16562\tval-rmse:0.23276\n",
      "[99]\ttrain-rmse:0.16323\tval-rmse:0.23209\n"
     ]
    }
   ],
   "source": [
    "model_xgb_eta_eq_0_1 = xgb.train(xgb_params_eta_eq_01, dtrain, num_boost_round=100,\n",
    "                  verbose_eval=5,\n",
    "                  evals=watchlist)"
   ]
  },
  {
   "cell_type": "code",
   "execution_count": 65,
   "metadata": {},
   "outputs": [
    {
     "name": "stdout",
     "output_type": "stream",
     "text": [
      "Fin. This is the end\n"
     ]
    }
   ],
   "source": [
    "# rmse ETA=0.3  : 0.228 ==> BETTER\n",
    "# rmse ETA=0.1  : 0.232\n",
    "\n",
    "print('Fin. This is the end')"
   ]
  },
  {
   "cell_type": "code",
   "execution_count": null,
   "metadata": {},
   "outputs": [],
   "source": []
  }
 ],
 "metadata": {
  "kernelspec": {
   "display_name": "Python 3 (ipykernel)",
   "language": "python",
   "name": "python3"
  },
  "language_info": {
   "codemirror_mode": {
    "name": "ipython",
    "version": 3
   },
   "file_extension": ".py",
   "mimetype": "text/x-python",
   "name": "python",
   "nbconvert_exporter": "python",
   "pygments_lexer": "ipython3",
   "version": "3.11.4"
  }
 },
 "nbformat": 4,
 "nbformat_minor": 2
}
